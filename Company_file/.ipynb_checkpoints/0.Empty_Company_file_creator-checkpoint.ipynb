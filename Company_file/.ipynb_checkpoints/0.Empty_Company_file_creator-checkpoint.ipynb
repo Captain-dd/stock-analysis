{
 "cells": [
  {
   "cell_type": "code",
   "execution_count": 1,
   "id": "a0c54b11",
   "metadata": {},
   "outputs": [],
   "source": [
    "import pandas as pd\n",
    "from tqdm import tqdm"
   ]
  },
  {
   "cell_type": "code",
   "execution_count": 2,
   "id": "211cdde3",
   "metadata": {},
   "outputs": [],
   "source": [
    "Company_list = ['3MINDIA', 'AARTIDRUGS', 'AARTIIND', 'AAVAS', 'ABB', 'ABCAPITAL', 'ABFRL', \n",
    "                'ACC', 'ACCELYA', 'ACE', 'ADANIENT', 'ADANIPORTS', 'ADFFOODS', 'ADVENZYMES', \n",
    "                'AEGISCHEM', 'AHLUCONT', 'AIAENG', 'AJANTPHARM', 'AKZOINDIA', 'ALEMBICLTD', 'ALKEM', \n",
    "                'ALKYLAMINE', 'ALLCARGO', 'ALOKINDS', 'AMARAJABAT', 'AMBER', 'AMBUJACEM', 'AMRUTANJAN', \n",
    "                'ANURAS', 'APARINDS', 'APLAPOLLO', 'APLLTD', 'APOLLOHOSP', 'APOLLOPIPE', 'APOLLOTYRE', \n",
    "                'ARVIND', 'ARVINDFASN', 'ASAHIINDIA', 'ASHIANA', 'ASHOKA', 'ASHOKLEY', 'ASIANPAINT', 'ASTEC', \n",
    "                'ASTERDM', 'ASTRAL', 'ASTRAZEN', 'ATFL', 'ATUL', 'AUBANK', 'AUROPHARMA', 'AUTOAXLES', 'AVANTIFEED', \n",
    "                'AXISBANK', 'BAJAJ-AUTO', 'BAJAJCON', 'BAJAJELEC', 'BAJAJFINSV', 'BAJAJHLDNG', 'BAJFINANCE', 'BALAMINES', \n",
    "                'BALKRISIND', 'BALMLAWRIE', 'BALRAMCHIN', 'BANARISUG', 'BANDHANBNK', 'BANKBARODA', 'BANKINDIA', 'BASF', 'BATAINDIA', 'BBTC', 'BDL', 'BECTORFOOD', 'BEL', 'BEML', 'BEPL', 'BERGEPAINT', 'BHARATFORG', 'BHARATRAS', 'BHARTIARTL', 'BHEL', 'BIOCON', 'BIRLACORPN', 'BLUEDART', 'BLUESTARCO', 'BOMDYEING', 'BOSCHLTD', 'BPCL', 'BRIGADE', 'BRITANNIA', 'BSE', 'BSOFT', 'CAMLINFINE', 'CANBK', 'CANFINHOME', 'CAPACITE', 'CAPLIPOINT', 'CARBORUNIV', 'CARERATING', 'CASTROLIND', 'CCL', 'CDSL', 'CEATLTD', 'CENTRALBK', 'CENTRUM', 'CENTURYPLY', 'CENTURYTEX', 'CERA', 'CESC', 'CGCL', 'CHALET', 'CHAMBLFERT', 'CHEMCON', 'CHENNPETRO', 'CHOLAFIN', 'CHOLAHLDNG', 'CIPLA', 'COALINDIA', 'COCHINSHIP', 'COFORGE', 'COLPAL', 'CONCOR', 'CONFIPET', 'COROMANDEL', 'CRAFTSMAN', 'CREDITACC', 'CRISIL', 'CROMPTON', 'CSBBANK', 'CUB', 'CUMMINSIND', 'CYIENT', 'DAAWAT', 'DABUR', 'DALBHARAT', 'DALMIASUG', 'DBCORP', 'DBL', 'DCAL', 'DCBBANK', 'DCMSHRIRAM', 'DEEPAKNTR', 'DELTACORP', 'DEN', 'DFMFOODS', 'DHAMPURSUG', 'DHANI', 'DHANUKA', 'DIAMONDYD', 'DISHTV', 'DIVISLAB', 'DIXON', 'DLF', 'DMART', 'DOLLAR', 'DRREDDY', 'EASEMYTRIP', 'EDELWEISS', 'EICHERMOT', 'EIDPARRY', 'EIHOTEL', 'ELGIEQUIP', 'EMAMILTD', 'ENDURANCE', 'ENGINERSIN', 'EPL', 'EQUITAS', 'EQUITASBNK', 'ERIS', 'ESABINDIA', 'ESCORTS', 'EVEREADY', 'EXIDEIND', 'FACT', 'FCONSUMER', 'FDC', 'FEDERALBNK', 'FILATEX', 'FINCABLES', 'FINEORG', 'FINPIPE', 'FMGOETZE', 'FORTIS', 'FRETAIL', 'FSL', 'GABRIEL', 'GAEL', 'GAIL', 'GALAXYSURF', 'GANECOS', 'GARFIBRES', 'GATI', 'GENUSPOWER', 'GEOJITFSL', 'GEPIL', 'GESHIP', 'GET&D', 'GHCL', 'GICRE', 'GILLETTE', 'GLAND', 'GLAXO', 'GLENMARK', 'GMDCLTD', 'GMMPFAUDLR', 'GMRINFRA', 'GNFC', 'GODFRYPHLP', 'GODREJAGRO', 'GODREJCP', 'GODREJIND', 'GODREJPROP', 'GPPL', 'GRANULES', 'GRAPHITE', 'GRASIM', 'GREAVESCOT', 'GREENLAM', 'GREENPLY', 'GRINDWELL', 'GRSE', 'GSFC', 'GSPL', 'GTPL', 'GUJALKALI', 'GUJGASLTD', 'GULFOILLUB', 'HAL', 'HAPPSTMNDS', 'HATHWAY', 'HATSUN', 'HAVELLS', 'HCC', 'HCG', 'HCLTECH', 'HDFC', 'HDFCAMC', 'HDFCBANK', 'HDFCLIFE', 'HEG', 'HEIDELBERG', 'HEMIPROP', 'HERANBA', 'HERITGFOOD', 'HEROMOTOCO', 'HESTERBIO', 'HFCL', 'HGINFRA', 'HIKAL', 'HIL', 'HIMATSEIDE', 'HINDALCO', 'HINDCOPPER', 'HINDOILEXP', 'HINDPETRO', 'HINDUNILVR', 'HINDZINC', 'HOMEFIRST', 'HONAUT', 'HSCL', 'HUDCO', 'HUHTAMAKI', 'IBREALEST', 'IBULHSGFIN', 'ICICIBANK', 'ICICIGI', 'ICICIPRULI', 'ICIL', 'ICRA', 'IDBI', 'IDEA', 'IDFC', 'IDFCFIRSTB', 'IEX', 'IFBIND', 'IFCI', 'IGL', 'IGPL', 'IIFLSEC', 'IIFLWAM', 'IMFA', 'INDHOTEL', 'INDIACEM', 'INDIAGLYCO', 'INDIAMART', 'INDIANB', 'INDIGO', 'INDIGOPNTS', 'INDOCO', 'INDOSTAR', 'INDUSINDBK', 'INDUSTOWER', 'INEOSSTYRO', 'INFIBEAM', 'INFY', 'INGERRAND', 'INOXLEISUR', 'INOXWIND', 'INTELLECT', 'IOB', 'IOC', 'IOLCP', 'IPCALAB', 'IRB', 'IRCON', 'IRCTC', 'IRFC', 'ISEC', 'ITC', 'ITDC', 'ITDCEM', 'ITI', 'J&KBANK', 'JAGRAN', 'JAICORPLTD', 'JAMNAAUTO', 'JBCHEPHARM', 'JBMA', 'JCHAC', 'JINDALPOLY', 'JINDALSAW', 'JINDALSTEL', 'JKCEMENT', 'JKIL', 'JKLAKSHMI', 'JKPAPER', 'JKTYRE', 'JMCPROJECT', 'JMFINANCIL', 'JPPOWER', 'JSL', 'JSLHISAR', 'JSWHL', 'JSWSTEEL', 'JTEKTINDIA', 'JUBLFOOD', 'JUBLINGREA', 'JUBLPHARMA', 'JUSTDIAL', 'JYOTHYLAB', 'KAJARIACER', 'KALPATPOWR', 'KALYANKJIL', 'KANSAINER', 'KARURVYSYA', 'KEC', 'KEI', 'KIOCL', 'KIRIINDUS', 'KIRLOSENG', 'KIRLOSIND', 'KNRCON', 'KOLTEPATIL', 'KOTAKBANK', 'KPITTECH', 'KPRMILL', 'KRBL', 'KSB', 'KSCL', 'KSL', 'KTKBANK', 'L&TFH', 'LALPATHLAB', 'LAOPALA', 'LAURUSLABS', 'LAXMIMACH', 'LEMONTREE', 'LICHSGFIN', 'LINDEINDIA', 'LT', 'LTI', 'LTTS', 'LUMAXIND', 'LUPIN', 'LUXIND', 'LXCHEM', 'M&M', 'M&MFIN', 'MAHABANK', 'MAHINDCIE', 'MAHLIFE', 'MAHLOG', 'MAHSCOOTER', 'MAHSEAMLES', 'MAITHANALL', 'MANAPPURAM', 'MARICO', 'MARKSANS', 'MARUTI', 'MASFIN', 'MASTEK', 'MATRIMONY', 'MAXHEALTH', 'MAYURUNIQ', 'MAZDOCK', 'MCDOWELL-N', 'METROPOLIS', 'MFSL', 'MGL', 'MHRIL', 'MIDHANI', 'MINDACORP', 'MINDAIND', 'MINDTREE', 'MMFL', 'MMTC', 'MOIL', 'MOREPENLAB', 'MOTHERSUMI', 'MOTILALOFS', 'MPHASIS', 'MRF', 'MRPL', 'MSTCLTD', 'MTARTECH', 'MTNL', 'MUTHOOTFIN', 'NAM-INDIA', 'NATCOPHARM', 'NATIONALUM', 'NAUKRI', 'NAVINFLUOR', 'NAVNETEDUL', 'NAZARA', 'NBCC', 'NBVENTURES', 'NCC', 'NEOGEN', 'NESCO', 'NETWORK18', 'NEWGEN', 'NFL', 'NH', 'NHPC', 'NIACL', 'NIITLTD', 'NILKAMAL', 'NLCINDIA', 'NMDC', 'NOCIL', 'NTPC', 'NUCLEUS', 'OAL', 'OBEROIRLTY', 'OFSS', 'OIL', 'OMAXE', 'ONGC', 'ORIENTCEM', 'ORIENTELEC', 'ORISSAMINE', 'PAGEIND', 'PAISALO', 'PCJEWELLER', 'PEL', 'PERSISTENT', 'PETRONET', 'PFC', 'PFIZER', 'PGHH', 'PGHL', 'PHOENIXLTD', 'PIDILITIND', 'PIIND', 'PILANIINVS', 'PNB', 'PNCINFRA', 'POLYCAB', 'POLYMED', 'POLYPLEX', 'POWERGRID', 'POWERINDIA', 'PRAKASH', 'PRESTIGE', 'PRINCEPIPE', 'PRIVISCL', 'PRSMJOHNSN', 'PSB', 'PSPPROJECT', 'PTC', 'PURVA', 'PVR', 'QUESS', 'QUICKHEAL', 'RADICO', 'RAILTEL', 'RAIN', 'RAJESHEXPO', 'RALLIS', 'RAMCOCEM', 'RAMCOIND', 'RAMCOSYS', 'RATNAMANI', 'RAYMOND', 'RBLBANK', 'RCF', 'RECLTD', 'REDINGTON', 'RELAXO', 'RELIANCE', 'RELIGARE', 'REPCOHOME', 'RESPONIND', 'RITES', 'RKFORGE', 'ROSSARI', 'ROUTE', 'RSYSTEMS', 'RUCHI', 'RUPA', 'RVNL', 'SAFARI', 'SAGCEM', 'SAIL', 'SANDHAR', 'SANOFI', 'SASKEN', 'SBICARD', 'SBILIFE', 'SBIN', 'SCHAEFFLER', 'SCHNEIDER', 'SCI', 'SEQUENT', 'SFL', 'SHARDACROP', 'SHILPAMED', 'SHK', 'SHOPERSTOP', 'SHREECEM', 'SHRIRAMCIT', 'SIEMENS', 'SIS', 'SJVN', 'SKFINDIA', 'SOBHA', 'SOLARA', 'SOLARINDS', 'SONATSOFTW', 'SOTL', 'SOUTHBANK', 'SPANDANA', 'SPARC', 'SRF', 'SRTRANSFIN', 'STAR', 'STARCEMENT', 'STLTECH', 'STOVEKRAFT', 'SUBEXLTD', 'SUBROS', 'SUDARSCHEM', 'SUMICHEM', 'SUNCLAYLTD', 'SUNDARMFIN', 'SUNDRMFAST', 'SUNPHARMA', 'SUNTECK', 'SUNTV', 'SUPRAJIT', 'SUPREMEIND', 'SURYAROSNI', 'SURYODAY', 'SUVENPHAR', 'SUVIDHAA', 'SUZLON', 'SWANENERGY', 'SWARAJENG', 'SWSOLAR', 'SYMPHONY', 'SYNGENE', 'TASTYBITE', 'TATACHEM', 'TATACOFFEE', 'TATACOMM', 'TATACONSUM', 'TATAELXSI', 'TATAINVEST', 'TATAMETALI', 'TATAMOTORS', 'TATAPOWER', 'TATASTEEL', 'TCI', 'TCIEXP', 'TCNSBRANDS', 'TCS', 'TEAMLEASE', 'TECHM', 'TECHNOE', 'THERMAX', 'THOMASCOOK', 'THYROCARE', 'TIDEWATER', 'TIINDIA', 'TIMETECHNO', 'TIMKEN', 'TINPLATE', 'TITAN', 'TORNTPHARM', 'TORNTPOWER', 'TRENT', 'TRITURBINE', 'TRIVENI', 'TTKPRESTIG', 'TV18BRDCST', 'TVSMOTOR', 'TVSSRICHAK', 'TVTODAY', 'UBL', 'UCOBANK', 'UFLEX', 'UJJIVAN', 'UJJIVANSFB', 'ULTRACEMCO', 'UNICHEMLAB', 'UNIONBANK', 'UPL', 'UTIAMC', 'VAIBHAVGBL', 'VAKRANGEE', 'VARROC', 'VBL', 'VEDL', 'VENKEYS', 'VESUVIUS', 'VGUARD', 'VINATIORGA', 'VIPIND', 'VMART', 'VOLTAS', 'VRLLOG', 'VSTIND', 'VSTTILLERS', 'VTL', 'WABAG', 'WABCOINDIA', 'WELCORP', 'WELENT', 'WELSPUNIND', 'WHIRLPOOL', 'WIPRO', 'WOCKPHARMA', 'WSTCSTPAPR', 'YESBANK', 'ZEEL', 'ZENSARTECH', 'ZYDUSWELL']\n",
    "\n"
   ]
  },
  {
   "cell_type": "code",
   "execution_count": 3,
   "id": "c45c3f88",
   "metadata": {},
   "outputs": [],
   "source": [
    "columns = ['SYMBOL', 'SERIES', 'DATE1', 'PREV_CLOSE', 'OPEN_PRICE', 'HIGH_PRICE',\n",
    "       'LOW_PRICE', 'LAST_PRICE', 'CLOSE_PRICE', 'AVG_PRICE', 'TTL_TRD_QNTY',\n",
    "       'NO_OF_TRADES', 'DELIV_QTY', 'DELIV_PER']"
   ]
  },
  {
   "cell_type": "code",
   "execution_count": 4,
   "id": "66ef3962",
   "metadata": {},
   "outputs": [
    {
     "name": "stderr",
     "output_type": "stream",
     "text": [
      "100%|███████████████████████████████████████████████████████████████████████████████| 646/646 [00:00<00:00, 741.34it/s]\n"
     ]
    }
   ],
   "source": [
    "\n",
    "for i in tqdm(Company_list):\n",
    "    \n",
    "    df = pd.DataFrame(columns=columns)\n",
    "    df.to_csv(f'{i}.csv', index=False)\n"
   ]
  },
  {
   "cell_type": "code",
   "execution_count": 5,
   "id": "e60dae04",
   "metadata": {},
   "outputs": [
    {
     "data": {
      "text/html": [
       "<div>\n",
       "<style scoped>\n",
       "    .dataframe tbody tr th:only-of-type {\n",
       "        vertical-align: middle;\n",
       "    }\n",
       "\n",
       "    .dataframe tbody tr th {\n",
       "        vertical-align: top;\n",
       "    }\n",
       "\n",
       "    .dataframe thead th {\n",
       "        text-align: right;\n",
       "    }\n",
       "</style>\n",
       "<table border=\"1\" class=\"dataframe\">\n",
       "  <thead>\n",
       "    <tr style=\"text-align: right;\">\n",
       "      <th></th>\n",
       "      <th>SYMBOL</th>\n",
       "      <th>SERIES</th>\n",
       "      <th>DATE1</th>\n",
       "      <th>PREV_CLOSE</th>\n",
       "      <th>OPEN_PRICE</th>\n",
       "      <th>HIGH_PRICE</th>\n",
       "      <th>LOW_PRICE</th>\n",
       "      <th>LAST_PRICE</th>\n",
       "      <th>CLOSE_PRICE</th>\n",
       "      <th>AVG_PRICE</th>\n",
       "      <th>TTL_TRD_QNTY</th>\n",
       "      <th>NO_OF_TRADES</th>\n",
       "      <th>DELIV_QTY</th>\n",
       "      <th>DELIV_PER</th>\n",
       "    </tr>\n",
       "  </thead>\n",
       "  <tbody>\n",
       "  </tbody>\n",
       "</table>\n",
       "</div>"
      ],
      "text/plain": [
       "Empty DataFrame\n",
       "Columns: [SYMBOL, SERIES, DATE1, PREV_CLOSE, OPEN_PRICE, HIGH_PRICE, LOW_PRICE, LAST_PRICE, CLOSE_PRICE, AVG_PRICE, TTL_TRD_QNTY, NO_OF_TRADES, DELIV_QTY, DELIV_PER]\n",
       "Index: []"
      ]
     },
     "metadata": {},
     "output_type": "display_data"
    },
    {
     "data": {
      "text/html": [
       "<div>\n",
       "<style scoped>\n",
       "    .dataframe tbody tr th:only-of-type {\n",
       "        vertical-align: middle;\n",
       "    }\n",
       "\n",
       "    .dataframe tbody tr th {\n",
       "        vertical-align: top;\n",
       "    }\n",
       "\n",
       "    .dataframe thead th {\n",
       "        text-align: right;\n",
       "    }\n",
       "</style>\n",
       "<table border=\"1\" class=\"dataframe\">\n",
       "  <thead>\n",
       "    <tr style=\"text-align: right;\">\n",
       "      <th></th>\n",
       "      <th>SYMBOL</th>\n",
       "      <th>SERIES</th>\n",
       "      <th>DATE1</th>\n",
       "      <th>PREV_CLOSE</th>\n",
       "      <th>OPEN_PRICE</th>\n",
       "      <th>HIGH_PRICE</th>\n",
       "      <th>LOW_PRICE</th>\n",
       "      <th>LAST_PRICE</th>\n",
       "      <th>CLOSE_PRICE</th>\n",
       "      <th>AVG_PRICE</th>\n",
       "      <th>TTL_TRD_QNTY</th>\n",
       "      <th>NO_OF_TRADES</th>\n",
       "      <th>DELIV_QTY</th>\n",
       "      <th>DELIV_PER</th>\n",
       "    </tr>\n",
       "  </thead>\n",
       "  <tbody>\n",
       "  </tbody>\n",
       "</table>\n",
       "</div>"
      ],
      "text/plain": [
       "Empty DataFrame\n",
       "Columns: [SYMBOL, SERIES, DATE1, PREV_CLOSE, OPEN_PRICE, HIGH_PRICE, LOW_PRICE, LAST_PRICE, CLOSE_PRICE, AVG_PRICE, TTL_TRD_QNTY, NO_OF_TRADES, DELIV_QTY, DELIV_PER]\n",
       "Index: []"
      ]
     },
     "metadata": {},
     "output_type": "display_data"
    },
    {
     "data": {
      "text/html": [
       "<div>\n",
       "<style scoped>\n",
       "    .dataframe tbody tr th:only-of-type {\n",
       "        vertical-align: middle;\n",
       "    }\n",
       "\n",
       "    .dataframe tbody tr th {\n",
       "        vertical-align: top;\n",
       "    }\n",
       "\n",
       "    .dataframe thead th {\n",
       "        text-align: right;\n",
       "    }\n",
       "</style>\n",
       "<table border=\"1\" class=\"dataframe\">\n",
       "  <thead>\n",
       "    <tr style=\"text-align: right;\">\n",
       "      <th></th>\n",
       "      <th>SYMBOL</th>\n",
       "      <th>SERIES</th>\n",
       "      <th>DATE1</th>\n",
       "      <th>PREV_CLOSE</th>\n",
       "      <th>OPEN_PRICE</th>\n",
       "      <th>HIGH_PRICE</th>\n",
       "      <th>LOW_PRICE</th>\n",
       "      <th>LAST_PRICE</th>\n",
       "      <th>CLOSE_PRICE</th>\n",
       "      <th>AVG_PRICE</th>\n",
       "      <th>TTL_TRD_QNTY</th>\n",
       "      <th>NO_OF_TRADES</th>\n",
       "      <th>DELIV_QTY</th>\n",
       "      <th>DELIV_PER</th>\n",
       "    </tr>\n",
       "  </thead>\n",
       "  <tbody>\n",
       "  </tbody>\n",
       "</table>\n",
       "</div>"
      ],
      "text/plain": [
       "Empty DataFrame\n",
       "Columns: [SYMBOL, SERIES, DATE1, PREV_CLOSE, OPEN_PRICE, HIGH_PRICE, LOW_PRICE, LAST_PRICE, CLOSE_PRICE, AVG_PRICE, TTL_TRD_QNTY, NO_OF_TRADES, DELIV_QTY, DELIV_PER]\n",
       "Index: []"
      ]
     },
     "metadata": {},
     "output_type": "display_data"
    },
    {
     "data": {
      "text/html": [
       "<div>\n",
       "<style scoped>\n",
       "    .dataframe tbody tr th:only-of-type {\n",
       "        vertical-align: middle;\n",
       "    }\n",
       "\n",
       "    .dataframe tbody tr th {\n",
       "        vertical-align: top;\n",
       "    }\n",
       "\n",
       "    .dataframe thead th {\n",
       "        text-align: right;\n",
       "    }\n",
       "</style>\n",
       "<table border=\"1\" class=\"dataframe\">\n",
       "  <thead>\n",
       "    <tr style=\"text-align: right;\">\n",
       "      <th></th>\n",
       "      <th>SYMBOL</th>\n",
       "      <th>SERIES</th>\n",
       "      <th>DATE1</th>\n",
       "      <th>PREV_CLOSE</th>\n",
       "      <th>OPEN_PRICE</th>\n",
       "      <th>HIGH_PRICE</th>\n",
       "      <th>LOW_PRICE</th>\n",
       "      <th>LAST_PRICE</th>\n",
       "      <th>CLOSE_PRICE</th>\n",
       "      <th>AVG_PRICE</th>\n",
       "      <th>TTL_TRD_QNTY</th>\n",
       "      <th>NO_OF_TRADES</th>\n",
       "      <th>DELIV_QTY</th>\n",
       "      <th>DELIV_PER</th>\n",
       "    </tr>\n",
       "  </thead>\n",
       "  <tbody>\n",
       "  </tbody>\n",
       "</table>\n",
       "</div>"
      ],
      "text/plain": [
       "Empty DataFrame\n",
       "Columns: [SYMBOL, SERIES, DATE1, PREV_CLOSE, OPEN_PRICE, HIGH_PRICE, LOW_PRICE, LAST_PRICE, CLOSE_PRICE, AVG_PRICE, TTL_TRD_QNTY, NO_OF_TRADES, DELIV_QTY, DELIV_PER]\n",
       "Index: []"
      ]
     },
     "metadata": {},
     "output_type": "display_data"
    },
    {
     "data": {
      "text/html": [
       "<div>\n",
       "<style scoped>\n",
       "    .dataframe tbody tr th:only-of-type {\n",
       "        vertical-align: middle;\n",
       "    }\n",
       "\n",
       "    .dataframe tbody tr th {\n",
       "        vertical-align: top;\n",
       "    }\n",
       "\n",
       "    .dataframe thead th {\n",
       "        text-align: right;\n",
       "    }\n",
       "</style>\n",
       "<table border=\"1\" class=\"dataframe\">\n",
       "  <thead>\n",
       "    <tr style=\"text-align: right;\">\n",
       "      <th></th>\n",
       "      <th>SYMBOL</th>\n",
       "      <th>SERIES</th>\n",
       "      <th>DATE1</th>\n",
       "      <th>PREV_CLOSE</th>\n",
       "      <th>OPEN_PRICE</th>\n",
       "      <th>HIGH_PRICE</th>\n",
       "      <th>LOW_PRICE</th>\n",
       "      <th>LAST_PRICE</th>\n",
       "      <th>CLOSE_PRICE</th>\n",
       "      <th>AVG_PRICE</th>\n",
       "      <th>TTL_TRD_QNTY</th>\n",
       "      <th>NO_OF_TRADES</th>\n",
       "      <th>DELIV_QTY</th>\n",
       "      <th>DELIV_PER</th>\n",
       "    </tr>\n",
       "  </thead>\n",
       "  <tbody>\n",
       "  </tbody>\n",
       "</table>\n",
       "</div>"
      ],
      "text/plain": [
       "Empty DataFrame\n",
       "Columns: [SYMBOL, SERIES, DATE1, PREV_CLOSE, OPEN_PRICE, HIGH_PRICE, LOW_PRICE, LAST_PRICE, CLOSE_PRICE, AVG_PRICE, TTL_TRD_QNTY, NO_OF_TRADES, DELIV_QTY, DELIV_PER]\n",
       "Index: []"
      ]
     },
     "metadata": {},
     "output_type": "display_data"
    }
   ],
   "source": [
    "# Checking whether compnay file is made or not \n",
    "for i in Company_list[:5]:\n",
    "    df = pd.read_csv(f'{i}.csv')\n",
    "    display(df)\n",
    "    "
   ]
  },
  {
   "cell_type": "code",
   "execution_count": null,
   "id": "6426e6ba",
   "metadata": {},
   "outputs": [],
   "source": []
  }
 ],
 "metadata": {
  "kernelspec": {
   "display_name": "Python 3 (ipykernel)",
   "language": "python",
   "name": "python3"
  },
  "language_info": {
   "codemirror_mode": {
    "name": "ipython",
    "version": 3
   },
   "file_extension": ".py",
   "mimetype": "text/x-python",
   "name": "python",
   "nbconvert_exporter": "python",
   "pygments_lexer": "ipython3",
   "version": "3.8.9"
  }
 },
 "nbformat": 4,
 "nbformat_minor": 5
}

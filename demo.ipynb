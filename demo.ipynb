{
 "cells": [
  {
   "cell_type": "code",
   "execution_count": null,
   "id": "a34d23ad",
   "metadata": {},
   "outputs": [],
   "source": [
    "print(\"Hello World\")"
   ]
  },
  {
   "cell_type": "code",
   "execution_count": null,
   "id": "d4392e7d",
   "metadata": {},
   "outputs": [],
   "source": [
    "print(\"Hello DD\")"
   ]
  },
  {
   "cell_type": "code",
   "execution_count": null,
   "id": "9cc2e82b",
   "metadata": {},
   "outputs": [],
   "source": [
    "print(\"Hello DD - 04:05\")"
   ]
  },
  {
   "cell_type": "code",
   "execution_count": null,
   "id": "8b0b2d27",
   "metadata": {},
   "outputs": [],
   "source": [
    "print(\"Hello DD - 04:07\")"
   ]
  }
 ],
 "metadata": {
  "kernelspec": {
   "display_name": "Python 3 (ipykernel)",
   "language": "python",
   "name": "python3"
  },
  "language_info": {
   "codemirror_mode": {
    "name": "ipython",
    "version": 3
   },
   "file_extension": ".py",
   "mimetype": "text/x-python",
   "name": "python",
   "nbconvert_exporter": "python",
   "pygments_lexer": "ipython3",
   "version": "3.8.9"
  }
 },
 "nbformat": 4,
 "nbformat_minor": 5
}

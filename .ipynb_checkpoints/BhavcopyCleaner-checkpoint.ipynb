{
 "cells": [
  {
   "cell_type": "code",
   "execution_count": 1,
   "id": "18705d74",
   "metadata": {},
   "outputs": [],
   "source": [
    "import pandas as pd\n",
    "import time\n",
    "from datetime import timedelta, datetime\n",
    "from tqdm import tqdm"
   ]
  },
  {
   "cell_type": "code",
   "execution_count": 2,
   "id": "2d2b140b",
   "metadata": {},
   "outputs": [],
   "source": [
    "# This function returns nth day before date\n",
    "def oldDate(n):\n",
    "    \n",
    "    return datetime.now() - timedelta(n)"
   ]
  },
  {
   "cell_type": "code",
   "execution_count": 3,
   "id": "2c7896d2",
   "metadata": {},
   "outputs": [],
   "source": [
    "def path(i,j):\n",
    "    if j ==0:\n",
    "        \n",
    "        # Raw Bhavcopy path for j =0\n",
    "        return f'C:/Users/91951/Desktop/SAL/SAL 6th SEM/DE/Code version 3/Raw_bhav_copy/Raw_bhavcopy_{oldDate(i).strftime(\"%Y-%m-%d\")}.csv'\n",
    "    else:\n",
    "        \n",
    "        # Clean bhavcopy path for j =1\n",
    "        return f'C:/Users/91951/Desktop/SAL/SAL 6th SEM/DE/Code version 3/Clean_bhav_copy/Clean_bhavcopy_{oldDate(i).strftime(\"%Y-%m-%d\")}.csv'\n"
   ]
  },
  {
   "cell_type": "code",
   "execution_count": 4,
   "id": "259fc67f",
   "metadata": {},
   "outputs": [],
   "source": [
    "# This list contains all the company name which we want to keep in clean bhav copy\n",
    "\n",
    "Company_list = ['3MINDIA', 'AARTIDRUGS', 'AARTIIND', 'AAVAS', 'ABB', 'ABCAPITAL', 'ABFRL', \n",
    "                'ACC', 'ACCELYA', 'ACE', 'ADANIENT', 'ADANIPORTS', 'ADFFOODS', 'ADVENZYMES', \n",
    "                'AEGISCHEM', 'AHLUCONT', 'AIAENG', 'AJANTPHARM', 'AKZOINDIA', 'ALEMBICLTD', 'ALKEM', \n",
    "                'ALKYLAMINE', 'ALLCARGO', 'ALOKINDS', 'AMARAJABAT', 'AMBER', 'AMBUJACEM', 'AMRUTANJAN', \n",
    "                'ANURAS', 'APARINDS', 'APLAPOLLO', 'APLLTD', 'APOLLOHOSP', 'APOLLOPIPE', 'APOLLOTYRE', \n",
    "                'ARVIND', 'ARVINDFASN', 'ASAHIINDIA', 'ASHIANA', 'ASHOKA', 'ASHOKLEY', 'ASIANPAINT', 'ASTEC', \n",
    "                'ASTERDM', 'ASTRAL', 'ASTRAZEN', 'ATFL', 'ATUL', 'AUBANK', 'AUROPHARMA', 'AUTOAXLES', 'AVANTIFEED', \n",
    "                'AXISBANK', 'BAJAJ-AUTO', 'BAJAJCON', 'BAJAJELEC', 'BAJAJFINSV', 'BAJAJHLDNG', 'BAJFINANCE', 'BALAMINES', \n",
    "                'BALKRISIND', 'BALMLAWRIE', 'BALRAMCHIN', 'BANARISUG', 'BANDHANBNK', 'BANKBARODA', 'BANKINDIA', 'BASF', 'BATAINDIA', 'BBTC', 'BDL', 'BECTORFOOD', 'BEL', 'BEML', 'BEPL', 'BERGEPAINT', 'BHARATFORG', 'BHARATRAS', 'BHARTIARTL', 'BHEL', 'BIOCON', 'BIRLACORPN', 'BLUEDART', 'BLUESTARCO', 'BOMDYEING', 'BOSCHLTD', 'BPCL', 'BRIGADE', 'BRITANNIA', 'BSE', 'BSOFT', 'CAMLINFINE', 'CANBK', 'CANFINHOME', 'CAPACITE', 'CAPLIPOINT', 'CARBORUNIV', 'CARERATING', 'CASTROLIND', 'CCL', 'CDSL', 'CEATLTD', 'CENTRALBK', 'CENTRUM', 'CENTURYPLY', 'CENTURYTEX', 'CERA', 'CESC', 'CGCL', 'CHALET', 'CHAMBLFERT', 'CHEMCON', 'CHENNPETRO', 'CHOLAFIN', 'CHOLAHLDNG', 'CIPLA', 'COALINDIA', 'COCHINSHIP', 'COFORGE', 'COLPAL', 'CONCOR', 'CONFIPET', 'COROMANDEL', 'CRAFTSMAN', 'CREDITACC', 'CRISIL', 'CROMPTON', 'CSBBANK', 'CUB', 'CUMMINSIND', 'CYIENT', 'DAAWAT', 'DABUR', 'DALBHARAT', 'DALMIASUG', 'DBCORP', 'DBL', 'DCAL', 'DCBBANK', 'DCMSHRIRAM', 'DEEPAKNTR', 'DELTACORP', 'DEN', 'DFMFOODS', 'DHAMPURSUG', 'DHANI', 'DHANUKA', 'DIAMONDYD', 'DISHTV', 'DIVISLAB', 'DIXON', 'DLF', 'DMART', 'DOLLAR', 'DRREDDY', 'EASEMYTRIP', 'EDELWEISS', 'EICHERMOT', 'EIDPARRY', 'EIHOTEL', 'ELGIEQUIP', 'EMAMILTD', 'ENDURANCE', 'ENGINERSIN', 'EPL', 'EQUITAS', 'EQUITASBNK', 'ERIS', 'ESABINDIA', 'ESCORTS', 'EVEREADY', 'EXIDEIND', 'FACT', 'FCONSUMER', 'FDC', 'FEDERALBNK', 'FILATEX', 'FINCABLES', 'FINEORG', 'FINPIPE', 'FMGOETZE', 'FORTIS', 'FRETAIL', 'FSL', 'GABRIEL', 'GAEL', 'GAIL', 'GALAXYSURF', 'GANECOS', 'GARFIBRES', 'GATI', 'GENUSPOWER', 'GEOJITFSL', 'GEPIL', 'GESHIP', 'GET&D', 'GHCL', 'GICRE', 'GILLETTE', 'GLAND', 'GLAXO', 'GLENMARK', 'GMDCLTD', 'GMMPFAUDLR', 'GMRINFRA', 'GNFC', 'GODFRYPHLP', 'GODREJAGRO', 'GODREJCP', 'GODREJIND', 'GODREJPROP', 'GPPL', 'GRANULES', 'GRAPHITE', 'GRASIM', 'GREAVESCOT', 'GREENLAM', 'GREENPLY', 'GRINDWELL', 'GRSE', 'GSFC', 'GSPL', 'GTPL', 'GUJALKALI', 'GUJGASLTD', 'GULFOILLUB', 'HAL', 'HAPPSTMNDS', 'HATHWAY', 'HATSUN', 'HAVELLS', 'HCC', 'HCG', 'HCLTECH', 'HDFC', 'HDFCAMC', 'HDFCBANK', 'HDFCLIFE', 'HEG', 'HEIDELBERG', 'HEMIPROP', 'HERANBA', 'HERITGFOOD', 'HEROMOTOCO', 'HESTERBIO', 'HFCL', 'HGINFRA', 'HIKAL', 'HIL', 'HIMATSEIDE', 'HINDALCO', 'HINDCOPPER', 'HINDOILEXP', 'HINDPETRO', 'HINDUNILVR', 'HINDZINC', 'HOMEFIRST', 'HONAUT', 'HSCL', 'HUDCO', 'HUHTAMAKI', 'IBREALEST', 'IBULHSGFIN', 'ICICIBANK', 'ICICIGI', 'ICICIPRULI', 'ICIL', 'ICRA', 'IDBI', 'IDEA', 'IDFC', 'IDFCFIRSTB', 'IEX', 'IFBIND', 'IFCI', 'IGL', 'IGPL', 'IIFLSEC', 'IIFLWAM', 'IMFA', 'INDHOTEL', 'INDIACEM', 'INDIAGLYCO', 'INDIAMART', 'INDIANB', 'INDIGO', 'INDIGOPNTS', 'INDOCO', 'INDOSTAR', 'INDUSINDBK', 'INDUSTOWER', 'INEOSSTYRO', 'INFIBEAM', 'INFY', 'INGERRAND', 'INOXLEISUR', 'INOXWIND', 'INTELLECT', 'IOB', 'IOC', 'IOLCP', 'IPCALAB', 'IRB', 'IRCON', 'IRCTC', 'IRFC', 'ISEC', 'ITC', 'ITDC', 'ITDCEM', 'ITI', 'J&KBANK', 'JAGRAN', 'JAICORPLTD', 'JAMNAAUTO', 'JBCHEPHARM', 'JBMA', 'JCHAC', 'JINDALPOLY', 'JINDALSAW', 'JINDALSTEL', 'JKCEMENT', 'JKIL', 'JKLAKSHMI', 'JKPAPER', 'JKTYRE', 'JMCPROJECT', 'JMFINANCIL', 'JPPOWER', 'JSL', 'JSLHISAR', 'JSWHL', 'JSWSTEEL', 'JTEKTINDIA', 'JUBLFOOD', 'JUBLINGREA', 'JUBLPHARMA', 'JUSTDIAL', 'JYOTHYLAB', 'KAJARIACER', 'KALPATPOWR', 'KALYANKJIL', 'KANSAINER', 'KARURVYSYA', 'KEC', 'KEI', 'KIOCL', 'KIRIINDUS', 'KIRLOSENG', 'KIRLOSIND', 'KNRCON', 'KOLTEPATIL', 'KOTAKBANK', 'KPITTECH', 'KPRMILL', 'KRBL', 'KSB', 'KSCL', 'KSL', 'KTKBANK', 'L&TFH', 'LALPATHLAB', 'LAOPALA', 'LAURUSLABS', 'LAXMIMACH', 'LEMONTREE', 'LICHSGFIN', 'LINDEINDIA', 'LT', 'LTI', 'LTTS', 'LUMAXIND', 'LUPIN', 'LUXIND', 'LXCHEM', 'M&M', 'M&MFIN', 'MAHABANK', 'MAHINDCIE', 'MAHLIFE', 'MAHLOG', 'MAHSCOOTER', 'MAHSEAMLES', 'MAITHANALL', 'MANAPPURAM', 'MARICO', 'MARKSANS', 'MARUTI', 'MASFIN', 'MASTEK', 'MATRIMONY', 'MAXHEALTH', 'MAYURUNIQ', 'MAZDOCK', 'MCDOWELL-N', 'METROPOLIS', 'MFSL', 'MGL', 'MHRIL', 'MIDHANI', 'MINDACORP', 'MINDAIND', 'MINDTREE', 'MMFL', 'MMTC', 'MOIL', 'MOREPENLAB', 'MOTHERSUMI', 'MOTILALOFS', 'MPHASIS', 'MRF', 'MRPL', 'MSTCLTD', 'MTARTECH', 'MTNL', 'MUTHOOTFIN', 'NAM-INDIA', 'NATCOPHARM', 'NATIONALUM', 'NAUKRI', 'NAVINFLUOR', 'NAVNETEDUL', 'NAZARA', 'NBCC', 'NBVENTURES', 'NCC', 'NEOGEN', 'NESCO', 'NETWORK18', 'NEWGEN', 'NFL', 'NH', 'NHPC', 'NIACL', 'NIITLTD', 'NILKAMAL', 'NLCINDIA', 'NMDC', 'NOCIL', 'NTPC', 'NUCLEUS', 'OAL', 'OBEROIRLTY', 'OFSS', 'OIL', 'OMAXE', 'ONGC', 'ORIENTCEM', 'ORIENTELEC', 'ORISSAMINE', 'PAGEIND', 'PAISALO', 'PCJEWELLER', 'PEL', 'PERSISTENT', 'PETRONET', 'PFC', 'PFIZER', 'PGHH', 'PGHL', 'PHOENIXLTD', 'PIDILITIND', 'PIIND', 'PILANIINVS', 'PNB', 'PNCINFRA', 'POLYCAB', 'POLYMED', 'POLYPLEX', 'POWERGRID', 'POWERINDIA', 'PRAKASH', 'PRESTIGE', 'PRINCEPIPE', 'PRIVISCL', 'PRSMJOHNSN', 'PSB', 'PSPPROJECT', 'PTC', 'PURVA', 'PVR', 'QUESS', 'QUICKHEAL', 'RADICO', 'RAILTEL', 'RAIN', 'RAJESHEXPO', 'RALLIS', 'RAMCOCEM', 'RAMCOIND', 'RAMCOSYS', 'RATNAMANI', 'RAYMOND', 'RBLBANK', 'RCF', 'RECLTD', 'REDINGTON', 'RELAXO', 'RELIANCE', 'RELIGARE', 'REPCOHOME', 'RESPONIND', 'RITES', 'RKFORGE', 'ROSSARI', 'ROUTE', 'RSYSTEMS', 'RUCHI', 'RUPA', 'RVNL', 'SAFARI', 'SAGCEM', 'SAIL', 'SANDHAR', 'SANOFI', 'SASKEN', 'SBICARD', 'SBILIFE', 'SBIN', 'SCHAEFFLER', 'SCHNEIDER', 'SCI', 'SEQUENT', 'SFL', 'SHARDACROP', 'SHILPAMED', 'SHK', 'SHOPERSTOP', 'SHREECEM', 'SHRIRAMCIT', 'SIEMENS', 'SIS', 'SJVN', 'SKFINDIA', 'SOBHA', 'SOLARA', 'SOLARINDS', 'SONATSOFTW', 'SOTL', 'SOUTHBANK', 'SPANDANA', 'SPARC', 'SRF', 'SRTRANSFIN', 'STAR', 'STARCEMENT', 'STLTECH', 'STOVEKRAFT', 'SUBEXLTD', 'SUBROS', 'SUDARSCHEM', 'SUMICHEM', 'SUNCLAYLTD', 'SUNDARMFIN', 'SUNDRMFAST', 'SUNPHARMA', 'SUNTECK', 'SUNTV', 'SUPRAJIT', 'SUPREMEIND', 'SURYAROSNI', 'SURYODAY', 'SUVENPHAR', 'SUVIDHAA', 'SUZLON', 'SWANENERGY', 'SWARAJENG', 'SWSOLAR', 'SYMPHONY', 'SYNGENE', 'TASTYBITE', 'TATACHEM', 'TATACOFFEE', 'TATACOMM', 'TATACONSUM', 'TATAELXSI', 'TATAINVEST', 'TATAMETALI', 'TATAMOTORS', 'TATAPOWER', 'TATASTEEL', 'TCI', 'TCIEXP', 'TCNSBRANDS', 'TCS', 'TEAMLEASE', 'TECHM', 'TECHNOE', 'THERMAX', 'THOMASCOOK', 'THYROCARE', 'TIDEWATER', 'TIINDIA', 'TIMETECHNO', 'TIMKEN', 'TINPLATE', 'TITAN', 'TORNTPHARM', 'TORNTPOWER', 'TRENT', 'TRITURBINE', 'TRIVENI', 'TTKPRESTIG', 'TV18BRDCST', 'TVSMOTOR', 'TVSSRICHAK', 'TVTODAY', 'UBL', 'UCOBANK', 'UFLEX', 'UJJIVAN', 'UJJIVANSFB', 'ULTRACEMCO', 'UNICHEMLAB', 'UNIONBANK', 'UPL', 'UTIAMC', 'VAIBHAVGBL', 'VAKRANGEE', 'VARROC', 'VBL', 'VEDL', 'VENKEYS', 'VESUVIUS', 'VGUARD', 'VINATIORGA', 'VIPIND', 'VMART', 'VOLTAS', 'VRLLOG', 'VSTIND', 'VSTTILLERS', 'VTL', 'WABAG', 'WABCOINDIA', 'WELCORP', 'WELENT', 'WELSPUNIND', 'WHIRLPOOL', 'WIPRO', 'WOCKPHARMA', 'WSTCSTPAPR', 'YESBANK', 'ZEEL', 'ZENSARTECH', 'ZYDUSWELL']"
   ]
  },
  {
   "cell_type": "code",
   "execution_count": 7,
   "id": "da77eb46",
   "metadata": {},
   "outputs": [
    {
     "name": "stderr",
     "output_type": "stream",
     "text": [
      "\r",
      "  0%|                                                                                          | 0/200 [00:00<?, ?it/s]"
     ]
    },
    {
     "name": "stdout",
     "output_type": "stream",
     "text": [
      "Exception  C:/Users/91951/Desktop/SAL/SAL 6th SEM/DE/Code version 3/Raw_bhav_copy/Raw_bhavcopy_2022-03-15.csv\n"
     ]
    },
    {
     "name": "stderr",
     "output_type": "stream",
     "text": [
      "\r",
      "  1%|▊                                                                                 | 2/200 [00:00<00:57,  3.44it/s]"
     ]
    },
    {
     "name": "stdout",
     "output_type": "stream",
     "text": [
      "Exception  C:/Users/91951/Desktop/SAL/SAL 6th SEM/DE/Code version 3/Raw_bhav_copy/Raw_bhavcopy_2022-03-13.csv\n",
      "Exception  C:/Users/91951/Desktop/SAL/SAL 6th SEM/DE/Code version 3/Raw_bhav_copy/Raw_bhavcopy_2022-03-12.csv\n"
     ]
    },
    {
     "name": "stderr",
     "output_type": "stream",
     "text": [
      "  4%|███▎                                                                              | 8/200 [00:03<01:43,  1.85it/s]"
     ]
    },
    {
     "name": "stdout",
     "output_type": "stream",
     "text": [
      "Exception  C:/Users/91951/Desktop/SAL/SAL 6th SEM/DE/Code version 3/Raw_bhav_copy/Raw_bhavcopy_2022-03-07.csv\n",
      "Exception  C:/Users/91951/Desktop/SAL/SAL 6th SEM/DE/Code version 3/Raw_bhav_copy/Raw_bhavcopy_2022-03-06.csv\n",
      "Exception  C:/Users/91951/Desktop/SAL/SAL 6th SEM/DE/Code version 3/Raw_bhav_copy/Raw_bhavcopy_2022-03-05.csv\n"
     ]
    },
    {
     "name": "stderr",
     "output_type": "stream",
     "text": [
      "  7%|█████▋                                                                           | 14/200 [00:05<01:22,  2.26it/s]"
     ]
    },
    {
     "name": "stdout",
     "output_type": "stream",
     "text": [
      "Exception  C:/Users/91951/Desktop/SAL/SAL 6th SEM/DE/Code version 3/Raw_bhav_copy/Raw_bhavcopy_2022-03-01.csv\n"
     ]
    },
    {
     "name": "stderr",
     "output_type": "stream",
     "text": [
      "\r",
      "  8%|██████▍                                                                          | 16/200 [00:06<01:16,  2.40it/s]"
     ]
    },
    {
     "name": "stdout",
     "output_type": "stream",
     "text": [
      "Exception  C:/Users/91951/Desktop/SAL/SAL 6th SEM/DE/Code version 3/Raw_bhav_copy/Raw_bhavcopy_2022-02-27.csv\n",
      "Exception  C:/Users/91951/Desktop/SAL/SAL 6th SEM/DE/Code version 3/Raw_bhav_copy/Raw_bhavcopy_2022-02-26.csv\n"
     ]
    },
    {
     "name": "stderr",
     "output_type": "stream",
     "text": [
      " 12%|█████████▎                                                                       | 23/200 [00:09<01:32,  1.90it/s]"
     ]
    },
    {
     "name": "stdout",
     "output_type": "stream",
     "text": [
      "Exception  C:/Users/91951/Desktop/SAL/SAL 6th SEM/DE/Code version 3/Raw_bhav_copy/Raw_bhavcopy_2022-02-20.csv\n",
      "Exception  C:/Users/91951/Desktop/SAL/SAL 6th SEM/DE/Code version 3/Raw_bhav_copy/Raw_bhavcopy_2022-02-19.csv\n"
     ]
    },
    {
     "name": "stderr",
     "output_type": "stream",
     "text": [
      " 15%|████████████▏                                                                    | 30/200 [00:12<01:25,  1.99it/s]"
     ]
    },
    {
     "name": "stdout",
     "output_type": "stream",
     "text": [
      "Exception  C:/Users/91951/Desktop/SAL/SAL 6th SEM/DE/Code version 3/Raw_bhav_copy/Raw_bhavcopy_2022-02-13.csv\n",
      "Exception  C:/Users/91951/Desktop/SAL/SAL 6th SEM/DE/Code version 3/Raw_bhav_copy/Raw_bhavcopy_2022-02-12.csv\n"
     ]
    },
    {
     "name": "stderr",
     "output_type": "stream",
     "text": [
      " 18%|██████████████▉                                                                  | 37/200 [00:15<01:31,  1.79it/s]"
     ]
    },
    {
     "name": "stdout",
     "output_type": "stream",
     "text": [
      "Exception  C:/Users/91951/Desktop/SAL/SAL 6th SEM/DE/Code version 3/Raw_bhav_copy/Raw_bhavcopy_2022-02-06.csv\n",
      "Exception  C:/Users/91951/Desktop/SAL/SAL 6th SEM/DE/Code version 3/Raw_bhav_copy/Raw_bhavcopy_2022-02-05.csv\n"
     ]
    },
    {
     "name": "stderr",
     "output_type": "stream",
     "text": [
      " 22%|█████████████████▊                                                               | 44/200 [00:19<01:25,  1.83it/s]"
     ]
    },
    {
     "name": "stdout",
     "output_type": "stream",
     "text": [
      "Exception  C:/Users/91951/Desktop/SAL/SAL 6th SEM/DE/Code version 3/Raw_bhav_copy/Raw_bhavcopy_2022-01-30.csv\n",
      "Exception  C:/Users/91951/Desktop/SAL/SAL 6th SEM/DE/Code version 3/Raw_bhav_copy/Raw_bhavcopy_2022-01-29.csv\n"
     ]
    },
    {
     "name": "stderr",
     "output_type": "stream",
     "text": [
      " 24%|███████████████████▍                                                             | 48/200 [00:20<01:12,  2.10it/s]"
     ]
    },
    {
     "name": "stdout",
     "output_type": "stream",
     "text": [
      "Exception  C:/Users/91951/Desktop/SAL/SAL 6th SEM/DE/Code version 3/Raw_bhav_copy/Raw_bhavcopy_2022-01-26.csv\n"
     ]
    },
    {
     "name": "stderr",
     "output_type": "stream",
     "text": [
      " 26%|████████████████████▋                                                            | 51/200 [00:21<01:06,  2.25it/s]"
     ]
    },
    {
     "name": "stdout",
     "output_type": "stream",
     "text": [
      "Exception  C:/Users/91951/Desktop/SAL/SAL 6th SEM/DE/Code version 3/Raw_bhav_copy/Raw_bhavcopy_2022-01-23.csv\n",
      "Exception  C:/Users/91951/Desktop/SAL/SAL 6th SEM/DE/Code version 3/Raw_bhav_copy/Raw_bhavcopy_2022-01-22.csv\n"
     ]
    },
    {
     "name": "stderr",
     "output_type": "stream",
     "text": [
      " 29%|███████████████████████▍                                                         | 58/200 [00:25<01:19,  1.78it/s]"
     ]
    },
    {
     "name": "stdout",
     "output_type": "stream",
     "text": [
      "Exception  C:/Users/91951/Desktop/SAL/SAL 6th SEM/DE/Code version 3/Raw_bhav_copy/Raw_bhavcopy_2022-01-16.csv\n",
      "Exception  C:/Users/91951/Desktop/SAL/SAL 6th SEM/DE/Code version 3/Raw_bhav_copy/Raw_bhavcopy_2022-01-15.csv\n"
     ]
    },
    {
     "name": "stderr",
     "output_type": "stream",
     "text": [
      " 32%|██████████████████████████▎                                                      | 65/200 [00:29<01:23,  1.61it/s]"
     ]
    },
    {
     "name": "stdout",
     "output_type": "stream",
     "text": [
      "Exception  C:/Users/91951/Desktop/SAL/SAL 6th SEM/DE/Code version 3/Raw_bhav_copy/Raw_bhavcopy_2022-01-09.csv\n",
      "Exception  C:/Users/91951/Desktop/SAL/SAL 6th SEM/DE/Code version 3/Raw_bhav_copy/Raw_bhavcopy_2022-01-08.csv\n"
     ]
    },
    {
     "name": "stderr",
     "output_type": "stream",
     "text": [
      " 36%|█████████████████████████████▏                                                   | 72/200 [00:33<01:34,  1.36it/s]"
     ]
    },
    {
     "name": "stdout",
     "output_type": "stream",
     "text": [
      "Exception  C:/Users/91951/Desktop/SAL/SAL 6th SEM/DE/Code version 3/Raw_bhav_copy/Raw_bhavcopy_2022-01-02.csv\n",
      "Exception  C:/Users/91951/Desktop/SAL/SAL 6th SEM/DE/Code version 3/Raw_bhav_copy/Raw_bhavcopy_2022-01-01.csv\n"
     ]
    },
    {
     "name": "stderr",
     "output_type": "stream",
     "text": [
      " 40%|███████████████████████████████▉                                                 | 79/200 [00:37<01:22,  1.46it/s]"
     ]
    },
    {
     "name": "stdout",
     "output_type": "stream",
     "text": [
      "Exception  C:/Users/91951/Desktop/SAL/SAL 6th SEM/DE/Code version 3/Raw_bhav_copy/Raw_bhavcopy_2021-12-26.csv\n",
      "Exception  C:/Users/91951/Desktop/SAL/SAL 6th SEM/DE/Code version 3/Raw_bhav_copy/Raw_bhavcopy_2021-12-25.csv\n"
     ]
    },
    {
     "name": "stderr",
     "output_type": "stream",
     "text": [
      " 43%|██████████████████████████████████▊                                              | 86/200 [00:41<01:11,  1.60it/s]"
     ]
    },
    {
     "name": "stdout",
     "output_type": "stream",
     "text": [
      "Exception  C:/Users/91951/Desktop/SAL/SAL 6th SEM/DE/Code version 3/Raw_bhav_copy/Raw_bhavcopy_2021-12-19.csv\n",
      "Exception  C:/Users/91951/Desktop/SAL/SAL 6th SEM/DE/Code version 3/Raw_bhav_copy/Raw_bhavcopy_2021-12-18.csv\n"
     ]
    },
    {
     "name": "stderr",
     "output_type": "stream",
     "text": [
      " 46%|█████████████████████████████████████▋                                           | 93/200 [00:45<01:11,  1.50it/s]"
     ]
    },
    {
     "name": "stdout",
     "output_type": "stream",
     "text": [
      "Exception  C:/Users/91951/Desktop/SAL/SAL 6th SEM/DE/Code version 3/Raw_bhav_copy/Raw_bhavcopy_2021-12-12.csv\n",
      "Exception  C:/Users/91951/Desktop/SAL/SAL 6th SEM/DE/Code version 3/Raw_bhav_copy/Raw_bhavcopy_2021-12-11.csv\n"
     ]
    },
    {
     "name": "stderr",
     "output_type": "stream",
     "text": [
      " 50%|████████████████████████████████████████                                        | 100/200 [00:49<01:09,  1.43it/s]"
     ]
    },
    {
     "name": "stdout",
     "output_type": "stream",
     "text": [
      "Exception  C:/Users/91951/Desktop/SAL/SAL 6th SEM/DE/Code version 3/Raw_bhav_copy/Raw_bhavcopy_2021-12-05.csv\n",
      "Exception  C:/Users/91951/Desktop/SAL/SAL 6th SEM/DE/Code version 3/Raw_bhav_copy/Raw_bhavcopy_2021-12-04.csv\n"
     ]
    },
    {
     "name": "stderr",
     "output_type": "stream",
     "text": [
      " 54%|██████████████████████████████████████████▊                                     | 107/200 [00:53<00:59,  1.57it/s]"
     ]
    },
    {
     "name": "stdout",
     "output_type": "stream",
     "text": [
      "Exception  C:/Users/91951/Desktop/SAL/SAL 6th SEM/DE/Code version 3/Raw_bhav_copy/Raw_bhavcopy_2021-11-28.csv\n",
      "Exception  C:/Users/91951/Desktop/SAL/SAL 6th SEM/DE/Code version 3/Raw_bhav_copy/Raw_bhavcopy_2021-11-27.csv\n"
     ]
    },
    {
     "name": "stderr",
     "output_type": "stream",
     "text": [
      " 57%|█████████████████████████████████████████████▌                                  | 114/200 [00:58<01:10,  1.22it/s]"
     ]
    },
    {
     "name": "stdout",
     "output_type": "stream",
     "text": [
      "Exception  C:/Users/91951/Desktop/SAL/SAL 6th SEM/DE/Code version 3/Raw_bhav_copy/Raw_bhavcopy_2021-11-21.csv\n",
      "Exception  C:/Users/91951/Desktop/SAL/SAL 6th SEM/DE/Code version 3/Raw_bhav_copy/Raw_bhavcopy_2021-11-20.csv\n",
      "Exception  C:/Users/91951/Desktop/SAL/SAL 6th SEM/DE/Code version 3/Raw_bhav_copy/Raw_bhavcopy_2021-11-19.csv\n"
     ]
    },
    {
     "name": "stderr",
     "output_type": "stream",
     "text": [
      " 60%|████████████████████████████████████████████████▍                               | 121/200 [01:02<01:05,  1.21it/s]"
     ]
    },
    {
     "name": "stdout",
     "output_type": "stream",
     "text": [
      "Exception  C:/Users/91951/Desktop/SAL/SAL 6th SEM/DE/Code version 3/Raw_bhav_copy/Raw_bhavcopy_2021-11-14.csv\n",
      "Exception  C:/Users/91951/Desktop/SAL/SAL 6th SEM/DE/Code version 3/Raw_bhav_copy/Raw_bhavcopy_2021-11-13.csv\n"
     ]
    },
    {
     "name": "stderr",
     "output_type": "stream",
     "text": [
      " 64%|███████████████████████████████████████████████████▏                            | 128/200 [01:08<01:03,  1.14it/s]"
     ]
    },
    {
     "name": "stdout",
     "output_type": "stream",
     "text": [
      "Exception  C:/Users/91951/Desktop/SAL/SAL 6th SEM/DE/Code version 3/Raw_bhav_copy/Raw_bhavcopy_2021-11-07.csv\n",
      "Exception  C:/Users/91951/Desktop/SAL/SAL 6th SEM/DE/Code version 3/Raw_bhav_copy/Raw_bhavcopy_2021-11-06.csv\n",
      "Exception  C:/Users/91951/Desktop/SAL/SAL 6th SEM/DE/Code version 3/Raw_bhav_copy/Raw_bhavcopy_2021-11-05.csv\n",
      "Exception  C:/Users/91951/Desktop/SAL/SAL 6th SEM/DE/Code version 3/Raw_bhav_copy/Raw_bhavcopy_2021-11-04.csv\n"
     ]
    },
    {
     "name": "stderr",
     "output_type": "stream",
     "text": [
      " 68%|██████████████████████████████████████████████████████                          | 135/200 [01:11<00:42,  1.54it/s]"
     ]
    },
    {
     "name": "stdout",
     "output_type": "stream",
     "text": [
      "Exception  C:/Users/91951/Desktop/SAL/SAL 6th SEM/DE/Code version 3/Raw_bhav_copy/Raw_bhavcopy_2021-10-31.csv\n",
      "Exception  C:/Users/91951/Desktop/SAL/SAL 6th SEM/DE/Code version 3/Raw_bhav_copy/Raw_bhavcopy_2021-10-30.csv\n"
     ]
    },
    {
     "name": "stderr",
     "output_type": "stream",
     "text": [
      " 71%|████████████████████████████████████████████████████████▊                       | 142/200 [01:17<00:53,  1.08it/s]"
     ]
    },
    {
     "name": "stdout",
     "output_type": "stream",
     "text": [
      "Exception  C:/Users/91951/Desktop/SAL/SAL 6th SEM/DE/Code version 3/Raw_bhav_copy/Raw_bhavcopy_2021-10-24.csv\n",
      "Exception  C:/Users/91951/Desktop/SAL/SAL 6th SEM/DE/Code version 3/Raw_bhav_copy/Raw_bhavcopy_2021-10-23.csv\n"
     ]
    },
    {
     "name": "stderr",
     "output_type": "stream",
     "text": [
      " 74%|███████████████████████████████████████████████████████████▌                    | 149/200 [01:22<00:43,  1.17it/s]"
     ]
    },
    {
     "name": "stdout",
     "output_type": "stream",
     "text": [
      "Exception  C:/Users/91951/Desktop/SAL/SAL 6th SEM/DE/Code version 3/Raw_bhav_copy/Raw_bhavcopy_2021-10-17.csv\n",
      "Exception  C:/Users/91951/Desktop/SAL/SAL 6th SEM/DE/Code version 3/Raw_bhav_copy/Raw_bhavcopy_2021-10-16.csv\n",
      "Exception  C:/Users/91951/Desktop/SAL/SAL 6th SEM/DE/Code version 3/Raw_bhav_copy/Raw_bhavcopy_2021-10-15.csv\n"
     ]
    },
    {
     "name": "stderr",
     "output_type": "stream",
     "text": [
      " 78%|██████████████████████████████████████████████████████████████▍                 | 156/200 [01:25<00:30,  1.44it/s]"
     ]
    },
    {
     "name": "stdout",
     "output_type": "stream",
     "text": [
      "Exception  C:/Users/91951/Desktop/SAL/SAL 6th SEM/DE/Code version 3/Raw_bhav_copy/Raw_bhavcopy_2021-10-10.csv\n",
      "Exception  C:/Users/91951/Desktop/SAL/SAL 6th SEM/DE/Code version 3/Raw_bhav_copy/Raw_bhavcopy_2021-10-09.csv\n"
     ]
    },
    {
     "name": "stderr",
     "output_type": "stream",
     "text": [
      " 82%|█████████████████████████████████████████████████████████████████▏              | 163/200 [01:30<00:29,  1.26it/s]"
     ]
    },
    {
     "name": "stdout",
     "output_type": "stream",
     "text": [
      "Exception  C:/Users/91951/Desktop/SAL/SAL 6th SEM/DE/Code version 3/Raw_bhav_copy/Raw_bhavcopy_2021-10-03.csv\n",
      "Exception  C:/Users/91951/Desktop/SAL/SAL 6th SEM/DE/Code version 3/Raw_bhav_copy/Raw_bhavcopy_2021-10-02.csv\n"
     ]
    },
    {
     "name": "stderr",
     "output_type": "stream",
     "text": [
      " 85%|████████████████████████████████████████████████████████████████████            | 170/200 [01:35<00:24,  1.23it/s]"
     ]
    },
    {
     "name": "stdout",
     "output_type": "stream",
     "text": [
      "Exception  C:/Users/91951/Desktop/SAL/SAL 6th SEM/DE/Code version 3/Raw_bhav_copy/Raw_bhavcopy_2021-09-26.csv\n",
      "Exception  C:/Users/91951/Desktop/SAL/SAL 6th SEM/DE/Code version 3/Raw_bhav_copy/Raw_bhavcopy_2021-09-25.csv\n"
     ]
    },
    {
     "name": "stderr",
     "output_type": "stream",
     "text": [
      " 88%|██████████████████████████████████████████████████████████████████████▊         | 177/200 [01:40<00:19,  1.17it/s]"
     ]
    },
    {
     "name": "stdout",
     "output_type": "stream",
     "text": [
      "Exception  C:/Users/91951/Desktop/SAL/SAL 6th SEM/DE/Code version 3/Raw_bhav_copy/Raw_bhavcopy_2021-09-19.csv\n",
      "Exception  C:/Users/91951/Desktop/SAL/SAL 6th SEM/DE/Code version 3/Raw_bhav_copy/Raw_bhavcopy_2021-09-18.csv\n"
     ]
    },
    {
     "name": "stderr",
     "output_type": "stream",
     "text": [
      "100%|████████████████████████████████████████████████████████████████████████████████| 200/200 [01:41<00:00,  1.97it/s]"
     ]
    },
    {
     "name": "stdout",
     "output_type": "stream",
     "text": [
      "Exception  C:/Users/91951/Desktop/SAL/SAL 6th SEM/DE/Code version 3/Raw_bhav_copy/Raw_bhavcopy_2021-09-16.csv\n",
      "Exception  C:/Users/91951/Desktop/SAL/SAL 6th SEM/DE/Code version 3/Raw_bhav_copy/Raw_bhavcopy_2021-09-15.csv\n",
      "Exception  C:/Users/91951/Desktop/SAL/SAL 6th SEM/DE/Code version 3/Raw_bhav_copy/Raw_bhavcopy_2021-09-14.csv\n",
      "Exception  C:/Users/91951/Desktop/SAL/SAL 6th SEM/DE/Code version 3/Raw_bhav_copy/Raw_bhavcopy_2021-09-13.csv\n",
      "Exception  C:/Users/91951/Desktop/SAL/SAL 6th SEM/DE/Code version 3/Raw_bhav_copy/Raw_bhavcopy_2021-09-12.csv\n",
      "Exception  C:/Users/91951/Desktop/SAL/SAL 6th SEM/DE/Code version 3/Raw_bhav_copy/Raw_bhavcopy_2021-09-11.csv\n",
      "Exception  C:/Users/91951/Desktop/SAL/SAL 6th SEM/DE/Code version 3/Raw_bhav_copy/Raw_bhavcopy_2021-09-10.csv\n",
      "Exception  C:/Users/91951/Desktop/SAL/SAL 6th SEM/DE/Code version 3/Raw_bhav_copy/Raw_bhavcopy_2021-09-09.csv\n",
      "Exception  C:/Users/91951/Desktop/SAL/SAL 6th SEM/DE/Code version 3/Raw_bhav_copy/Raw_bhavcopy_2021-09-08.csv\n",
      "Exception  C:/Users/91951/Desktop/SAL/SAL 6th SEM/DE/Code version 3/Raw_bhav_copy/Raw_bhavcopy_2021-09-07.csv\n",
      "Exception  C:/Users/91951/Desktop/SAL/SAL 6th SEM/DE/Code version 3/Raw_bhav_copy/Raw_bhavcopy_2021-09-06.csv\n",
      "Exception  C:/Users/91951/Desktop/SAL/SAL 6th SEM/DE/Code version 3/Raw_bhav_copy/Raw_bhavcopy_2021-09-05.csv\n",
      "Exception  C:/Users/91951/Desktop/SAL/SAL 6th SEM/DE/Code version 3/Raw_bhav_copy/Raw_bhavcopy_2021-09-04.csv\n",
      "Exception  C:/Users/91951/Desktop/SAL/SAL 6th SEM/DE/Code version 3/Raw_bhav_copy/Raw_bhavcopy_2021-09-03.csv\n",
      "Exception  C:/Users/91951/Desktop/SAL/SAL 6th SEM/DE/Code version 3/Raw_bhav_copy/Raw_bhavcopy_2021-09-02.csv\n",
      "Exception  C:/Users/91951/Desktop/SAL/SAL 6th SEM/DE/Code version 3/Raw_bhav_copy/Raw_bhavcopy_2021-09-01.csv\n",
      "Exception  C:/Users/91951/Desktop/SAL/SAL 6th SEM/DE/Code version 3/Raw_bhav_copy/Raw_bhavcopy_2021-08-31.csv\n",
      "Exception  C:/Users/91951/Desktop/SAL/SAL 6th SEM/DE/Code version 3/Raw_bhav_copy/Raw_bhavcopy_2021-08-30.csv\n",
      "Exception  C:/Users/91951/Desktop/SAL/SAL 6th SEM/DE/Code version 3/Raw_bhav_copy/Raw_bhavcopy_2021-08-29.csv\n",
      "Exception  C:/Users/91951/Desktop/SAL/SAL 6th SEM/DE/Code version 3/Raw_bhav_copy/Raw_bhavcopy_2021-08-28.csv\n"
     ]
    },
    {
     "name": "stderr",
     "output_type": "stream",
     "text": [
      "\n"
     ]
    }
   ],
   "source": [
    "# 11 march 2022 working here\n",
    "for i in tqdm(range(200)):\n",
    "    try:\n",
    "        \n",
    "        raw_df = pd.read_csv(path(i,0))\n",
    "#         print(path(i,0), f\" {i} Old\")\n",
    "#         display(raw_df)\n",
    "        \n",
    "        \n",
    "        # Reanming columns\n",
    "        old_col_list = ['SYMBOL', ' SERIES', ' DATE1', ' PREV_CLOSE', ' OPEN_PRICE',\n",
    "               ' HIGH_PRICE', ' LOW_PRICE', ' LAST_PRICE', ' CLOSE_PRICE',\n",
    "               ' AVG_PRICE', ' TTL_TRD_QNTY', ' TURNOVER_LACS', ' NO_OF_TRADES',\n",
    "               ' DELIV_QTY', ' DELIV_PER']\n",
    "        \n",
    "        for j in old_col_list:\n",
    "            raw_df.rename(columns = {j:j.strip()}, inplace = True)\n",
    "        \n",
    "        \n",
    "        \n",
    "        # Deleting 'Turnover_lacs' column which is not needed\n",
    "        raw_df.drop('TURNOVER_LACS', axis=1, inplace=True)\n",
    "#         print(raw_df.columns)\n",
    "        \n",
    "        \n",
    "        \n",
    "        \n",
    "        # Keeping companies who comes under equity section\n",
    "        raw_df = raw_df.loc[raw_df['SERIES'] == ' EQ']\n",
    "        raw_df.reset_index(drop=True, inplace=True)\n",
    "#         print(\"New\")\n",
    "#         display(raw_df)\n",
    "        \n",
    "        \n",
    "        \n",
    "        # Creating temp datafrmae this data frame will keep records of company which are in our list \n",
    "        temp_df = pd.DataFrame()\n",
    "        \n",
    "#         display(temp_df)\n",
    "        for x in Company_list:\n",
    "\n",
    "            temp_df = temp_df.append(raw_df.loc[raw_df['SYMBOL'] == x], ignore_index=True)\n",
    "#         display(i, temp_df)\n",
    "\n",
    "        # Saving clean temp_df to local system in Clean_bhavcopy file\n",
    "        temp_df.to_csv(path(i,1), index=False)\n",
    "\n",
    "        \n",
    "    except:\n",
    "        print(\"Exception \",(path(i,0)))"
   ]
  },
  {
   "cell_type": "code",
   "execution_count": null,
   "id": "29225163",
   "metadata": {},
   "outputs": [],
   "source": []
  },
  {
   "cell_type": "code",
   "execution_count": 9,
   "id": "00ef071c",
   "metadata": {},
   "outputs": [
    {
     "name": "stderr",
     "output_type": "stream",
     "text": [
      "100%|███████████████████████████████████████████████████████████████████████████████| 150/150 [00:00<00:00, 501.34it/s]"
     ]
    },
    {
     "name": "stdout",
     "output_type": "stream",
     "text": [
      "59\n"
     ]
    },
    {
     "name": "stderr",
     "output_type": "stream",
     "text": [
      "\n"
     ]
    }
   ],
   "source": [
    "# Checking content of csv file\n",
    "\n",
    "shape_error_list = []\n",
    "for i in tqdm(range(150)):\n",
    "    \n",
    "    try:\n",
    "        df = pd.read_csv(path(i, 1))\n",
    "        \n",
    "        if df.shape[0] == 646 and df.shape[1] == 14: # Checking shape of every clean Dataframe\n",
    "            \n",
    "            if df['DATE1'][0] != f'{oldDate(i).strftime(\"%d-%b-%Y\")}':  # Checking date from inside the file and file name date \n",
    "                print(df['TIMESTAMP'][0])\n",
    "                display(df.head(1))\n",
    "            \n",
    "        else:\n",
    "            shape_error_list.append(path(i,1))\n",
    "        \n",
    "        \n",
    "    except:\n",
    "        continue\n",
    "        \n",
    "        \n",
    "\n",
    "print(len(shape_error_list))"
   ]
  },
  {
   "cell_type": "code",
   "execution_count": null,
   "id": "c53a03db",
   "metadata": {},
   "outputs": [],
   "source": []
  },
  {
   "cell_type": "markdown",
   "id": "e670ca4a",
   "metadata": {},
   "source": [
    "# Rough Work "
   ]
  },
  {
   "cell_type": "code",
   "execution_count": null,
   "id": "ad6f09ff",
   "metadata": {},
   "outputs": [],
   "source": [
    "df = pd.read_csv(path(1,0))\n",
    "df = df.loc[df[' SERIES'] == ' EQ']\n",
    "df"
   ]
  },
  {
   "cell_type": "code",
   "execution_count": null,
   "id": "9dbab554",
   "metadata": {},
   "outputs": [],
   "source": [
    "df.columns"
   ]
  },
  {
   "cell_type": "code",
   "execution_count": null,
   "id": "34a4d3df",
   "metadata": {},
   "outputs": [],
   "source": [
    "Company_list = ['3MINDIA', 'AARTIDRUGS', 'AARTIIND', 'AAVAS', 'ABB', 'ABCAPITAL', 'ABFRL', \n",
    "                'ACC', 'ACCELYA', 'ACE', 'ADANIENT', 'ADANIPORTS', 'ADFFOODS', 'ADVENZYMES', \n",
    "                'AEGISCHEM', 'AHLUCONT', 'AIAENG', 'AJANTPHARM', 'AKZOINDIA', 'ALEMBICLTD', 'ALKEM', \n",
    "                'ALKYLAMINE', 'ALLCARGO', 'ALOKINDS', 'AMARAJABAT', 'AMBER', 'AMBUJACEM', 'AMRUTANJAN', \n",
    "                'ANURAS', 'APARINDS', 'APLAPOLLO', 'APLLTD', 'APOLLOHOSP', 'APOLLOPIPE', 'APOLLOTYRE', \n",
    "                'ARVIND', 'ARVINDFASN', 'ASAHIINDIA', 'ASHIANA', 'ASHOKA', 'ASHOKLEY', 'ASIANPAINT', 'ASTEC', \n",
    "                'ASTERDM', 'ASTRAL', 'ASTRAZEN', 'ATFL', 'ATUL', 'AUBANK', 'AUROPHARMA', 'AUTOAXLES', 'AVANTIFEED', \n",
    "                'AXISBANK', 'BAJAJ-AUTO', 'BAJAJCON', 'BAJAJELEC', 'BAJAJFINSV', 'BAJAJHLDNG', 'BAJFINANCE', 'BALAMINES', \n",
    "                'BALKRISIND', 'BALMLAWRIE', 'BALRAMCHIN', 'BANARISUG', 'BANDHANBNK', 'BANKBARODA', 'BANKINDIA', 'BASF', 'BATAINDIA', 'BBTC', 'BDL', 'BECTORFOOD', 'BEL', 'BEML', 'BEPL', 'BERGEPAINT', 'BHARATFORG', 'BHARATRAS', 'BHARTIARTL', 'BHEL', 'BIOCON', 'BIRLACORPN', 'BLUEDART', 'BLUESTARCO', 'BOMDYEING', 'BOSCHLTD', 'BPCL', 'BRIGADE', 'BRITANNIA', 'BSE', 'BSOFT', 'CAMLINFINE', 'CANBK', 'CANFINHOME', 'CAPACITE', 'CAPLIPOINT', 'CARBORUNIV', 'CARERATING', 'CASTROLIND', 'CCL', 'CDSL', 'CEATLTD', 'CENTRALBK', 'CENTRUM', 'CENTURYPLY', 'CENTURYTEX', 'CERA', 'CESC', 'CGCL', 'CHALET', 'CHAMBLFERT', 'CHEMCON', 'CHENNPETRO', 'CHOLAFIN', 'CHOLAHLDNG', 'CIPLA', 'COALINDIA', 'COCHINSHIP', 'COFORGE', 'COLPAL', 'CONCOR', 'CONFIPET', 'COROMANDEL', 'CRAFTSMAN', 'CREDITACC', 'CRISIL', 'CROMPTON', 'CSBBANK', 'CUB', 'CUMMINSIND', 'CYIENT', 'DAAWAT', 'DABUR', 'DALBHARAT', 'DALMIASUG', 'DBCORP', 'DBL', 'DCAL', 'DCBBANK', 'DCMSHRIRAM', 'DEEPAKNTR', 'DELTACORP', 'DEN', 'DFMFOODS', 'DHAMPURSUG', 'DHANI', 'DHANUKA', 'DIAMONDYD', 'DISHTV', 'DIVISLAB', 'DIXON', 'DLF', 'DMART', 'DOLLAR', 'DRREDDY', 'EASEMYTRIP', 'EDELWEISS', 'EICHERMOT', 'EIDPARRY', 'EIHOTEL', 'ELGIEQUIP', 'EMAMILTD', 'ENDURANCE', 'ENGINERSIN', 'EPL', 'EQUITAS', 'EQUITASBNK', 'ERIS', 'ESABINDIA', 'ESCORTS', 'EVEREADY', 'EXIDEIND', 'FACT', 'FCONSUMER', 'FDC', 'FEDERALBNK', 'FILATEX', 'FINCABLES', 'FINEORG', 'FINPIPE', 'FMGOETZE', 'FORTIS', 'FRETAIL', 'FSL', 'GABRIEL', 'GAEL', 'GAIL', 'GALAXYSURF', 'GANECOS', 'GARFIBRES', 'GATI', 'GENUSPOWER', 'GEOJITFSL', 'GEPIL', 'GESHIP', 'GET&D', 'GHCL', 'GICRE', 'GILLETTE', 'GLAND', 'GLAXO', 'GLENMARK', 'GMDCLTD', 'GMMPFAUDLR', 'GMRINFRA', 'GNFC', 'GODFRYPHLP', 'GODREJAGRO', 'GODREJCP', 'GODREJIND', 'GODREJPROP', 'GPPL', 'GRANULES', 'GRAPHITE', 'GRASIM', 'GREAVESCOT', 'GREENLAM', 'GREENPLY', 'GRINDWELL', 'GRSE', 'GSFC', 'GSPL', 'GTPL', 'GUJALKALI', 'GUJGASLTD', 'GULFOILLUB', 'HAL', 'HAPPSTMNDS', 'HATHWAY', 'HATSUN', 'HAVELLS', 'HCC', 'HCG', 'HCLTECH', 'HDFC', 'HDFCAMC', 'HDFCBANK', 'HDFCLIFE', 'HEG', 'HEIDELBERG', 'HEMIPROP', 'HERANBA', 'HERITGFOOD', 'HEROMOTOCO', 'HESTERBIO', 'HFCL', 'HGINFRA', 'HIKAL', 'HIL', 'HIMATSEIDE', 'HINDALCO', 'HINDCOPPER', 'HINDOILEXP', 'HINDPETRO', 'HINDUNILVR', 'HINDZINC', 'HOMEFIRST', 'HONAUT', 'HSCL', 'HUDCO', 'HUHTAMAKI', 'IBREALEST', 'IBULHSGFIN', 'ICICIBANK', 'ICICIGI', 'ICICIPRULI', 'ICIL', 'ICRA', 'IDBI', 'IDEA', 'IDFC', 'IDFCFIRSTB', 'IEX', 'IFBIND', 'IFCI', 'IGL', 'IGPL', 'IIFLSEC', 'IIFLWAM', 'IMFA', 'INDHOTEL', 'INDIACEM', 'INDIAGLYCO', 'INDIAMART', 'INDIANB', 'INDIGO', 'INDIGOPNTS', 'INDOCO', 'INDOSTAR', 'INDUSINDBK', 'INDUSTOWER', 'INEOSSTYRO', 'INFIBEAM', 'INFY', 'INGERRAND', 'INOXLEISUR', 'INOXWIND', 'INTELLECT', 'IOB', 'IOC', 'IOLCP', 'IPCALAB', 'IRB', 'IRCON', 'IRCTC', 'IRFC', 'ISEC', 'ITC', 'ITDC', 'ITDCEM', 'ITI', 'J&KBANK', 'JAGRAN', 'JAICORPLTD', 'JAMNAAUTO', 'JBCHEPHARM', 'JBMA', 'JCHAC', 'JINDALPOLY', 'JINDALSAW', 'JINDALSTEL', 'JKCEMENT', 'JKIL', 'JKLAKSHMI', 'JKPAPER', 'JKTYRE', 'JMCPROJECT', 'JMFINANCIL', 'JPPOWER', 'JSL', 'JSLHISAR', 'JSWHL', 'JSWSTEEL', 'JTEKTINDIA', 'JUBLFOOD', 'JUBLINGREA', 'JUBLPHARMA', 'JUSTDIAL', 'JYOTHYLAB', 'KAJARIACER', 'KALPATPOWR', 'KALYANKJIL', 'KANSAINER', 'KARURVYSYA', 'KEC', 'KEI', 'KIOCL', 'KIRIINDUS', 'KIRLOSENG', 'KIRLOSIND', 'KNRCON', 'KOLTEPATIL', 'KOTAKBANK', 'KPITTECH', 'KPRMILL', 'KRBL', 'KSB', 'KSCL', 'KSL', 'KTKBANK', 'L&TFH', 'LALPATHLAB', 'LAOPALA', 'LAURUSLABS', 'LAXMIMACH', 'LEMONTREE', 'LICHSGFIN', 'LINDEINDIA', 'LT', 'LTI', 'LTTS', 'LUMAXIND', 'LUPIN', 'LUXIND', 'LXCHEM', 'M&M', 'M&MFIN', 'MAHABANK', 'MAHINDCIE', 'MAHLIFE', 'MAHLOG', 'MAHSCOOTER', 'MAHSEAMLES', 'MAITHANALL', 'MANAPPURAM', 'MARICO', 'MARKSANS', 'MARUTI', 'MASFIN', 'MASTEK', 'MATRIMONY', 'MAXHEALTH', 'MAYURUNIQ', 'MAZDOCK', 'MCDOWELL-N', 'METROPOLIS', 'MFSL', 'MGL', 'MHRIL', 'MIDHANI', 'MINDACORP', 'MINDAIND', 'MINDTREE', 'MMFL', 'MMTC', 'MOIL', 'MOREPENLAB', 'MOTHERSUMI', 'MOTILALOFS', 'MPHASIS', 'MRF', 'MRPL', 'MSTCLTD', 'MTARTECH', 'MTNL', 'MUTHOOTFIN', 'NAM-INDIA', 'NATCOPHARM', 'NATIONALUM', 'NAUKRI', 'NAVINFLUOR', 'NAVNETEDUL', 'NAZARA', 'NBCC', 'NBVENTURES', 'NCC', 'NEOGEN', 'NESCO', 'NETWORK18', 'NEWGEN', 'NFL', 'NH', 'NHPC', 'NIACL', 'NIITLTD', 'NILKAMAL', 'NLCINDIA', 'NMDC', 'NOCIL', 'NTPC', 'NUCLEUS', 'OAL', 'OBEROIRLTY', 'OFSS', 'OIL', 'OMAXE', 'ONGC', 'ORIENTCEM', 'ORIENTELEC', 'ORISSAMINE', 'PAGEIND', 'PAISALO', 'PCJEWELLER', 'PEL', 'PERSISTENT', 'PETRONET', 'PFC', 'PFIZER', 'PGHH', 'PGHL', 'PHOENIXLTD', 'PIDILITIND', 'PIIND', 'PILANIINVS', 'PNB', 'PNCINFRA', 'POLYCAB', 'POLYMED', 'POLYPLEX', 'POWERGRID', 'POWERINDIA', 'PRAKASH', 'PRESTIGE', 'PRINCEPIPE', 'PRIVISCL', 'PRSMJOHNSN', 'PSB', 'PSPPROJECT', 'PTC', 'PURVA', 'PVR', 'QUESS', 'QUICKHEAL', 'RADICO', 'RAILTEL', 'RAIN', 'RAJESHEXPO', 'RALLIS', 'RAMCOCEM', 'RAMCOIND', 'RAMCOSYS', 'RATNAMANI', 'RAYMOND', 'RBLBANK', 'RCF', 'RECLTD', 'REDINGTON', 'RELAXO', 'RELIANCE', 'RELIGARE', 'REPCOHOME', 'RESPONIND', 'RITES', 'RKFORGE', 'ROSSARI', 'ROUTE', 'RSYSTEMS', 'RUCHI', 'RUPA', 'RVNL', 'SAFARI', 'SAGCEM', 'SAIL', 'SANDHAR', 'SANOFI', 'SASKEN', 'SBICARD', 'SBILIFE', 'SBIN', 'SCHAEFFLER', 'SCHNEIDER', 'SCI', 'SEQUENT', 'SFL', 'SHARDACROP', 'SHILPAMED', 'SHK', 'SHOPERSTOP', 'SHREECEM', 'SHRIRAMCIT', 'SIEMENS', 'SIS', 'SJVN', 'SKFINDIA', 'SOBHA', 'SOLARA', 'SOLARINDS', 'SONATSOFTW', 'SOTL', 'SOUTHBANK', 'SPANDANA', 'SPARC', 'SRF', 'SRTRANSFIN', 'STAR', 'STARCEMENT', 'STLTECH', 'STOVEKRAFT', 'SUBEXLTD', 'SUBROS', 'SUDARSCHEM', 'SUMICHEM', 'SUNCLAYLTD', 'SUNDARMFIN', 'SUNDRMFAST', 'SUNPHARMA', 'SUNTECK', 'SUNTV', 'SUPRAJIT', 'SUPREMEIND', 'SURYAROSNI', 'SURYODAY', 'SUVENPHAR', 'SUVIDHAA', 'SUZLON', 'SWANENERGY', 'SWARAJENG', 'SWSOLAR', 'SYMPHONY', 'SYNGENE', 'TASTYBITE', 'TATACHEM', 'TATACOFFEE', 'TATACOMM', 'TATACONSUM', 'TATAELXSI', 'TATAINVEST', 'TATAMETALI', 'TATAMOTORS', 'TATAPOWER', 'TATASTEEL', 'TCI', 'TCIEXP', 'TCNSBRANDS', 'TCS', 'TEAMLEASE', 'TECHM', 'TECHNOE', 'THERMAX', 'THOMASCOOK', 'THYROCARE', 'TIDEWATER', 'TIINDIA', 'TIMETECHNO', 'TIMKEN', 'TINPLATE', 'TITAN', 'TORNTPHARM', 'TORNTPOWER', 'TRENT', 'TRITURBINE', 'TRIVENI', 'TTKPRESTIG', 'TV18BRDCST', 'TVSMOTOR', 'TVSSRICHAK', 'TVTODAY', 'UBL', 'UCOBANK', 'UFLEX', 'UJJIVAN', 'UJJIVANSFB', 'ULTRACEMCO', 'UNICHEMLAB', 'UNIONBANK', 'UPL', 'UTIAMC', 'VAIBHAVGBL', 'VAKRANGEE', 'VARROC', 'VBL', 'VEDL', 'VENKEYS', 'VESUVIUS', 'VGUARD', 'VINATIORGA', 'VIPIND', 'VMART', 'VOLTAS', 'VRLLOG', 'VSTIND', 'VSTTILLERS', 'VTL', 'WABAG', 'WABCOINDIA', 'WELCORP', 'WELENT', 'WELSPUNIND', 'WHIRLPOOL', 'WIPRO', 'WOCKPHARMA', 'WSTCSTPAPR', 'YESBANK', 'ZEEL', 'ZENSARTECH', 'ZYDUSWELL']"
   ]
  },
  {
   "cell_type": "code",
   "execution_count": null,
   "id": "8a18e81c",
   "metadata": {},
   "outputs": [],
   "source": [
    "Comapny_ISIN_lst = ['INE470A01017', 'INE767A01016', 'INE769A01020', 'INE216P01012', 'INE117A01022', 'INE674K01013', 'INE647O01011', 'INE012A01025', 'INE793A01012', 'INE731H01025', 'INE423A01024', 'INE742F01042', 'INE982B01019', 'INE837H01020', 'INE208C01025', 'INE758C01029', 'INE212H01026', 'INE031B01049', 'INE133A01011', 'INE426A01027', 'INE540L01014', 'INE150B01039', 'INE418H01029', 'INE270A01029', 'INE885A01032', 'INE371P01015', 'INE079A01024', 'INE098F01031', 'INE930P01018', 'INE372A01015', 'INE702C01027', 'INE901L01018', 'INE437A01024', 'INE126J01016', 'INE438A01022', 'INE034A01011', 'INE955V01021', 'INE439A01020', 'INE365D01021', 'INE442H01029', 'INE208A01029', 'INE021A01026', 'INE563J01010', 'INE914M01019', 'INE006I01046', 'INE203A01020', 'INE209A01019', 'INE100A01010', 'INE949L01017', 'INE406A01037', 'INE449A01011', 'INE871C01038', 'INE238A01034', 'INE917I01010', 'INE933K01021', 'INE193E01025', 'INE918I01018', 'INE118A01012', 'INE296A01024', 'INE050E01027', 'INE787D01026', 'INE164A01016', 'INE119A01028', 'INE459A01010', 'INE545U01014', 'INE028A01039', 'INE084A01016', 'INE373A01013', 'INE176A01028', 'INE050A01025', 'INE171Z01018', 'INE495P01012', 'INE263A01024', 'INE258A01016', 'INE922A01025', 'INE463A01038', 'INE465A01025', 'INE838B01013', 'INE397D01024', 'INE257A01026', 'INE376G01013', 'INE340A01012', 'INE233B01017', 'INE472A01039', 'INE032A01023', 'INE323A01026', 'INE029A01011', 'INE791I01019', 'INE216A01030', 'INE118H01025', 'INE836A01035', 'INE052I01032', 'INE476A01014', 'INE477A01020', 'INE264T01014', 'INE475E01026', 'INE120A01034', 'INE752H01013', 'INE172A01027', 'INE421D01022', 'INE736A01011', 'INE482A01020', 'INE483A01010', 'INE660C01027', 'INE348B01021', 'INE055A01016', 'INE739E01017', 'INE486A01021', 'INE180C01026', 'INE427F01016', 'INE085A01013', 'INE03YM01018', 'INE178A01016', 'INE121A01024', 'INE149A01033', 'INE059A01026', 'INE522F01014', 'INE704P01017', 'INE591G01017', 'INE259A01022', 'INE111A01025', 'INE552D01024', 'INE169A01031', 'INE00LO01017', 'INE741K01010', 'INE007A01025', 'INE299U01018', 'INE679A01013', 'INE491A01021', 'INE298A01020', 'INE136B01020', 'INE818H01020', 'INE016A01026', 'INE00R701025', 'INE495A01022', 'INE950I01011', 'INE917M01012', 'INE385W01011', 'INE503A01015', 'INE499A01024', 'INE288B01029', 'INE124G01033', 'INE947J01015', 'INE456C01020', 'INE041A01016', 'INE274G01010', 'INE435G01025', 'INE393P01035', 'INE836F01026', 'INE361B01024', 'INE935N01020', 'INE271C01023', 'INE192R01011', 'INE325C01035', 'INE089A01023', 'INE07O001018', 'INE532F01054', 'INE066A01021', 'INE126A01031', 'INE230A01023', 'INE285A01027', 'INE548C01032', 'INE913H01037', 'INE510A01028', 'INE255A01020', 'INE988K01017', 'INE063P01018', 'INE406M01024', 'INE284A01012', 'INE042A01014', 'INE128A01029', 'INE302A01020', 'INE188A01015', 'INE220J01025', 'INE258B01022', 'INE171A01029', 'INE816B01027', 'INE235A01022', 'INE686Y01026', 'INE183A01024', 'INE529A01010', 'INE061F01013', 'INE752P01024', 'INE684F01012', 'INE524A01029', 'INE036B01030', 'INE129A01019', 'INE600K01018', 'INE845D01014', 'INE276A01018', 'INE152B01027', 'INE955D01029', 'INE007B01023', 'INE878A01011', 'INE017A01032', 'INE200A01026', 'INE539A01019', 'INE481Y01014', 'INE322A01010', 'INE068V01023', 'INE159A01016', 'INE935A01035', 'INE131A01031', 'INE541A01023', 'INE776C01039', 'INE113A01013', 'INE260B01028', 'INE850D01014', 'INE102D01028', 'INE233A01035', 'INE484J01027', 'INE517F01014', 'INE101D01020', 'INE371A01025', 'INE047A01021', 'INE224A01026', 'INE544R01021', 'INE461C01038', 'INE536A01023', 'INE382Z01011', 'INE026A01025', 'INE246F01010', 'INE869I01013', 'INE186A01019', 'INE844O01030', 'INE635Q01029', 'INE066F01012', 'INE419U01012', 'INE982F01036', 'INE473B01035', 'INE176B01034', 'INE549A01026', 'INE075I01017', 'INE860A01027', 'INE001A01036', 'INE127D01025', 'INE040A01034', 'INE795G01014', 'INE545A01016', 'INE578A01017', 'INE0AJG01018', 'INE694N01015', 'INE978A01027', 'INE158A01026', 'INE782E01017', 'INE548A01028', 'INE926X01010', 'INE475B01022', 'INE557A01011', 'INE049A01027', 'INE038A01020', 'INE531E01026', 'INE345A01011', 'INE094A01015', 'INE030A01027', 'INE267A01025', 'INE481N01025', 'INE671A01010', 'INE019C01026', 'INE031A01017', 'INE275B01026', 'INE069I01010', 'INE148I01020', 'INE090A01021', 'INE765G01017', 'INE726G01019', 'INE483B01026', 'INE725G01011', 'INE008A01015', 'INE669E01016', 'INE043D01016', 'INE092T01019', 'INE022Q01020', 'INE559A01017', 'INE039A01010', 'INE203G01027', 'INE204A01010', 'INE489L01022', 'INE466L01020', 'INE919H01018', 'INE053A01029', 'INE383A01012', 'INE560A01015', 'INE933S01016', 'INE562A01011', 'INE646L01027', 'INE09VQ01012', 'INE873D01024', 'INE896L01010', 'INE095A01012', 'INE121J01017', 'INE189B01011', 'INE483S01020', 'INE009A01021', 'INE177A01018', 'INE312H01016', 'INE066P01011', 'INE306R01017', 'INE565A01014', 'INE242A01010', 'INE485C01011', 'INE571A01038', 'INE821I01014', 'INE962Y01021', 'INE335Y01020', 'INE053F01010', 'INE763G01038', 'INE154A01025', 'INE353K01014', 'INE686A01026', 'INE248A01017', 'INE168A01041', 'INE199G01027', 'INE070D01027', 'INE039C01032', 'INE572A01028', 'INE927D01044', 'INE782A01015', 'INE197D01010', 'INE324A01024', 'INE749A01030', 'INE823G01014', 'INE576I01022', 'INE786A01032', 'INE789E01012', 'INE573A01042', 'INE890A01024', 'INE780C01023', 'INE351F01018', 'INE220G01021', 'INE455T01018', 'INE824G01012', 'INE019A01038', 'INE643A01035', 'INE797F01012', 'INE0BY001018', 'INE700A01033', 'INE599M01018', 'INE668F01031', 'INE217B01036', 'INE220B01022', 'INE303R01014', 'INE531A01024', 'INE036D01028', 'INE389H01022', 'INE878B01027', 'INE880L01014', 'INE415I01015', 'INE146L01010', 'INE250A01039', 'INE634I01029', 'INE094I01018', 'INE237A01028', 'INE04I401011', 'INE930H01031', 'INE001B01026', 'INE999A01015', 'INE455I01029', 'INE907A01026', 'INE614B01018', 'INE498L01015', 'INE600L01024', 'INE059D01020', 'INE947Q01028', 'INE269B01029', 'INE970X01018', 'INE115A01026', 'INE473A01011', 'INE018A01030', 'INE214T01019', 'INE010V01017', 'INE162B01018', 'INE326A01037', 'INE150G01020', 'INE576O01020', 'INE101A01026', 'INE774D01024', 'INE457A01014', 'INE536H01010', 'INE813A01018', 'INE766P01016', 'INE288A01013', 'INE271B01025', 'INE683C01011', 'INE522D01027', 'INE196A01026', 'INE750C01026', 'INE585B01010', 'INE348L01012', 'INE759A01021', 'INE866R01028', 'INE027H01010', 'INE040D01038', 'INE249Z01012', 'INE854D01024', 'INE112L01020', 'INE180A01020', 'INE002S01010', 'INE998I01010', 'INE099Z01011', 'INE842C01021', 'INE405E01023', 'INE018I01017', 'INE227C01017', 'INE123F01029', 'INE490G01020', 'INE083A01026', 'INE775A01035', 'INE338I01027', 'INE356A01018', 'INE883A01011', 'INE103A01014', 'INE255X01014', 'INE864I01014', 'INE153A01019', 'INE414G01012', 'INE298J01013', 'INE987B01026', 'INE139A01034', 'INE663F01024', 'INE048G01026', 'INE060A01024', 'INE418L01021', 'INE095N01031', 'INE725A01022', 'INE868B01028', 'INE136S01016', 'INE317F01035', 'INE870H01013', 'INE619B01017', 'INE870D01012', 'INE410P01011', 'INE848E01016', 'INE470Y01017', 'INE161A01038', 'INE310A01015', 'INE589A01014', 'INE584A01023', 'INE163A01018', 'INE733E01010', 'INE096B01018', 'INE959C01023', 'INE093I01010', 'INE881D01027', 'INE274J01014', 'INE800H01010', 'INE213A01029', 'INE876N01018', 'INE142Z01019', 'INE725E01024', 'INE761H01022', 'INE420C01042', 'INE785M01013', 'INE140A01024', 'INE262H01013', 'INE347G01014', 'INE134E01011', 'INE182A01018', 'INE179A01014', 'INE199A01012', 'INE211B01039', 'INE318A01026', 'INE603J01030', 'INE417C01014', 'INE160A01022', 'INE195J01029', 'INE455K01017', 'INE205C01021', 'INE633B01018', 'INE752E01010', 'INE07Y701011', 'INE603A01013', 'INE811K01011', 'INE689W01016', 'INE959A01019', 'INE010A01011', 'INE608A01012', 'INE488V01015', 'INE877F01012', 'INE323I01011', 'INE191H01014', 'INE615P01015', 'INE306L01010', 'INE944F01028', 'INE0DD101019', 'INE855B01025', 'INE343B01030', 'INE613A01020', 'INE331A01037', 'INE614A01028', 'INE246B01019', 'INE703B01027', 'INE301A01014', 'INE976G01028', 'INE027A01015', 'INE020B01018', 'INE891D01026', 'INE131B01039', 'INE002A01018', 'INE621H01010', 'INE612J01015', 'INE688D01026', 'INE320J01015', 'INE399G01015', 'INE02A801020', 'INE450U01017', 'INE411H01032', 'INE619A01035', 'INE895B01021', 'INE415G01027', 'INE429E01023', 'INE229C01021', 'INE114A01011', 'INE278H01035', 'INE058A01010', 'INE231F01020', 'INE018E01016', 'INE123W01016', 'INE062A01020', 'INE513A01022', 'INE839M01018', 'INE109A01011', 'INE807F01027', 'INE916U01025', 'INE221J01015', 'INE790G01031', 'INE500L01026', 'INE498B01024', 'INE070A01015', 'INE722A01011', 'INE003A01024', 'INE285J01028', 'INE002L01015', 'INE640A01023', 'INE671H01015', 'INE624Z01016', 'INE343H01029', 'INE269A01021', 'INE035D01012', 'INE683A01023', 'INE572J01011', 'INE232I01014', 'INE647A01010', 'INE721A01013', 'INE939A01011', 'INE460H01021', 'INE089C01029', 'INE00IN01015', 'INE754A01055', 'INE287B01021', 'INE659A01023', 'INE258G01013', 'INE105A01035', 'INE660A01013', 'INE387A01021', 'INE044A01036', 'INE805D01034', 'INE424H01027', 'INE399C01030', 'INE195A01028', 'INE335A01012', 'INE428Q01011', 'INE03QK01018', 'INE018401013', 'INE040H01021', 'INE665A01038', 'INE277A01016', 'INE00M201021', 'INE225D01027', 'INE398R01022', 'INE488B01017', 'INE092A01019', 'INE493A01027', 'INE151A01013', 'INE192A01025', 'INE670A01012', 'INE672A01018', 'INE056C01010', 'INE155A01022', 'INE245A01021', 'INE081A01012', 'INE688A01022', 'INE586V01016', 'INE778U01029', 'INE467B01029', 'INE985S01024', 'INE669C01036', 'INE285K01026', 'INE152A01029', 'INE332A01027', 'INE594H01019', 'INE484C01030', 'INE974X01010', 'INE508G01029', 'INE325A01013', 'INE422C01014', 'INE280A01028', 'INE685A01028', 'INE813H01021', 'INE849A01020', 'INE152M01016', 'INE256C01024', 'INE690A01028', 'INE886H01027', 'INE494B01023', 'INE421C01016', 'INE038F01029', 'INE686F01025', 'INE691A01018', 'INE516A01017', 'INE334L01012', 'INE551W01018', 'INE481G01011', 'INE351A01035', 'INE692A01016', 'INE628A01036', 'INE094J01016', 'INE884A01027', 'INE051B01021', 'INE665L01035', 'INE200M01013', 'INE205A01025', 'INE398A01010', 'INE386A01015', 'INE951I01027', 'INE410B01037', 'INE054A01027', 'INE665J01013', 'INE226A01021', 'INE366I01010', 'INE710A01016', 'INE764D01017', 'INE825A01012', 'INE956G01038', 'INE342J01019', 'INE191B01025', 'INE625G01013', 'INE192B01031', 'INE716A01013', 'INE075A01022', 'INE049B01025', 'INE976A01021', 'INE528G01035', 'INE256A01028', 'INE520A01027', 'INE768C01010']"
   ]
  },
  {
   "cell_type": "code",
   "execution_count": null,
   "id": "1387b4a2",
   "metadata": {},
   "outputs": [],
   "source": [
    "company_isin_dict = {}\n",
    "\n",
    "temp_df2 = pd.DataFrame(columns=df.columns)\n",
    "print(temp_df2.shape)\n",
    "for j,i in enumerate(Company_list):\n",
    "    try:\n",
    "        temp_df = df.loc[df['SYMBOL'] == i]\n",
    "        temp_df.reset_index(drop=True, inplace=True)\n",
    "        display((temp_df['SYMBOL']))\n",
    "        temp_df2 = temp_df2.append(temp_df)\n",
    "\n",
    "        print(j)\n",
    "#         company_isin_dict.update([(temp_df.at[0,'SYMBOL'] , temp_df.at[0,'ISIN'])])\n",
    "    except:\n",
    "        print(i)\n",
    "        \n",
    "print(temp_df2)"
   ]
  },
  {
   "cell_type": "code",
   "execution_count": null,
   "id": "41a84de9",
   "metadata": {},
   "outputs": [],
   "source": [
    "display(temp_df2)"
   ]
  },
  {
   "cell_type": "code",
   "execution_count": null,
   "id": "ff5261ea",
   "metadata": {},
   "outputs": [],
   "source": [
    "temp_lst  = list(temp_df2['SYMBOL'])\n",
    "print(type(temp_lst), len(temp_lst),temp_lst)\n",
    "print(len(set(temp_lst)))"
   ]
  },
  {
   "cell_type": "code",
   "execution_count": null,
   "id": "a15f5673",
   "metadata": {},
   "outputs": [],
   "source": [
    "len(company_isin_dict)"
   ]
  },
  {
   "cell_type": "code",
   "execution_count": null,
   "id": "d24f1398",
   "metadata": {},
   "outputs": [],
   "source": [
    "Company_list[27:29]"
   ]
  },
  {
   "cell_type": "code",
   "execution_count": null,
   "id": "8d4418a1",
   "metadata": {},
   "outputs": [],
   "source": [
    "print(len(list(Comapny_ISIN_lst)))"
   ]
  },
  {
   "cell_type": "code",
   "execution_count": null,
   "id": "4a7d013c",
   "metadata": {},
   "outputs": [],
   "source": [
    "temp_df2.columns"
   ]
  },
  {
   "cell_type": "code",
   "execution_count": null,
   "id": "553644e8",
   "metadata": {},
   "outputs": [],
   "source": [
    "i=3\n",
    "raw_df = pd.read_csv(path(i,0))\n",
    "print(path(i,0), f\" {i} Old\")\n",
    "display(raw_df)\n",
    "\n",
    "\n",
    "# Reanming columns\n",
    "old_col_list = ['SYMBOL', ' SERIES', ' DATE1', ' PREV_CLOSE', ' OPEN_PRICE',\n",
    "       ' HIGH_PRICE', ' LOW_PRICE', ' LAST_PRICE', ' CLOSE_PRICE',\n",
    "       ' AVG_PRICE', ' TTL_TRD_QNTY', ' TURNOVER_LACS', ' NO_OF_TRADES',\n",
    "       ' DELIV_QTY', ' DELIV_PER']\n",
    "print(\"hii1\")\n",
    "for j in old_col_list:\n",
    "    raw_df.rename(columns = {j:j.strip()}, inplace = True)\n",
    "print(\"Hii2\")\n",
    "# Deleting 'Turnover_lacs' column which is not needed\n",
    "raw_df.drop('TURNOVER_LACS', axis=1, inplace=True)\n",
    "print(raw_df.columns)\n",
    "\n",
    "# Keeping companies who comes under equity section\n",
    "raw_df = raw_df.loc[raw_df['SERIES'] == ' EQ']\n",
    "raw_df.reset_index(drop=True, inplace=True)\n",
    "print(\"New\")\n",
    "display(raw_df)\n",
    "\n",
    "\n",
    "# Creating temp datafrmae this data frame will keep records of company which are in our list \n",
    "temp_df = pd.DataFrame()\n",
    "print(\"Old_temp\")\n",
    "display(temp_df)\n",
    "for x in Company_list:\n",
    "\n",
    "    temp_df = temp_df.append(raw_df.loc[raw_df['SYMBOL'] == x], ignore_index=True)\n",
    "#     display(x, temp_df)\n",
    "\n",
    "# Saving clean temp_df to local system in Clean_bhavcopy file\n",
    "#         temp_df.to_csv(path(i,1), index=False)\n",
    "print(path(i,1), \"\\n\\nTemp\")\n",
    "display(temp_df)"
   ]
  },
  {
   "cell_type": "code",
   "execution_count": 11,
   "id": "55d52dc1",
   "metadata": {},
   "outputs": [
    {
     "data": {
      "text/plain": [
       "'11-MAR-2022'"
      ]
     },
     "execution_count": 11,
     "metadata": {},
     "output_type": "execute_result"
    }
   ],
   "source": [
    "i=0\n",
    "oldDate(i).strftime(\"%d-%b-%Y\").upper()"
   ]
  },
  {
   "cell_type": "code",
   "execution_count": null,
   "id": "14e77c5b",
   "metadata": {},
   "outputs": [],
   "source": []
  }
 ],
 "metadata": {
  "kernelspec": {
   "display_name": "Python 3 (ipykernel)",
   "language": "python",
   "name": "python3"
  },
  "language_info": {
   "codemirror_mode": {
    "name": "ipython",
    "version": 3
   },
   "file_extension": ".py",
   "mimetype": "text/x-python",
   "name": "python",
   "nbconvert_exporter": "python",
   "pygments_lexer": "ipython3",
   "version": "3.8.9"
  }
 },
 "nbformat": 4,
 "nbformat_minor": 5
}
